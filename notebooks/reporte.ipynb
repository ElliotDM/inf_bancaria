{
 "cells": [
  {
   "cell_type": "markdown",
   "id": "cd3ff779",
   "metadata": {},
   "source": [
    "<h1>Información bancaria</h1>\n",
    "<p>Durán Macedo Elliot </p>\n",
    "<p>López Gámez Luis Antonio</p>\n",
    "<p>Ritz Flora Carlos Alberto</p>"
   ]
  },
  {
   "cell_type": "markdown",
   "id": "288a13ea",
   "metadata": {},
   "source": [
    "<h2>Objetivo</h2>\n",
    "<p>Implementar un modelo predictivo que ayude al banco a evaluar el riesgo crediticio de manera más precisa en nuevas solicitudes. Esto permitirá clasificar a los solicitantes en segmentos de bajo, medio y alto riesgo crediticio, ayudando a los tomadores de decisiones a:</p>\n",
    "<ul>\n",
    "    <li>Minimizar las pérdidas por incumplimiento.</li>\n",
    "    <li>Optimizar la tasa de aprobación para clientes con buen perfil crediticio.</li>\n",
    "    <li>Mantener y mejorar la relación con clientes actuales y potenciales, adaptando las decisiones de crédito a su perfil específico.  </li>\n",
    "</ul>"
   ]
  },
  {
   "cell_type": "markdown",
   "id": "ecf90b8e",
   "metadata": {},
   "source": [
    "<h2>Problema de negocio</h2>\n",
    "<p>Un banco grande enfrenta el desafío constante de determinar con precisión el riesgo crediticio de nuevos solicitantes de crédito. La evaluación inexacta de este riesgo puede resultar en pérdidas financieras considerables debido a posibles incumplimientos de pago y, al mismo tiempo, puede generar desconfianza en la relación con clientes potenciales si los criterios son demasiado restrictivos. Es fundamental para el banco mejorar la precisión en la evaluación de estos riesgos con el fin de aprobar créditos a clientes solventes y rechazar aquellos con alta probabilidad de incumplimiento. </p>\n",
    "<p>Actualmente, la institución bancaria utiliza un conjunto de criterios estándar para aprobar o rechazar solicitudes de crédito. Sin embargo, estos criterios no siempre permiten identificar con precisión a los solicitantes con buen perfil crediticio, lo que conlleva a dos problemas principales: </p>\n",
    "<ol>\n",
    "    <li>Aprobación de clientes de alto riesgo: Al no identificar adecuadamente a los solicitantes con antecedentes o características de riesgo, el banco corre el peligro de aprobar créditos a personas con alta probabilidad de incumplimiento. </li>\n",
    "    <li>Rechazo de clientes solventes: La aplicación de filtros demasiado estrictos puede llevar a la pérdida de clientes con buena capacidad de pago, afectando la rentabilidad a largo plazo y la relación de confianza con el cliente.</li>\n",
    "</ol>"
   ]
  },
  {
   "cell_type": "markdown",
   "id": "77d5ff72",
   "metadata": {},
   "source": [
    "<h2>Variables importantes y su descripción</h2>\n",
    "<p>A partir de la información recabada en el DataMart, se decidió mantener las siguientes variables por su aporte en el proyecto:</p>\n",
    "<table border=\"2\" align=\"center\">\n",
    "    <tr>\n",
    "       <td><b>Variable</b></td>\n",
    "       <td><b>Descripción</b></td>\n",
    "    </tr>\n",
    "    <tr>\n",
    "        <td>TIPO_CTE</td>\n",
    "        <td>Clasificación preliminar del cliente según su perfil de riesgo o comportamiento pasado.</td>\n",
    "    </tr>\n",
    "    <tr>\n",
    "        <td>MESES_VENCIDOS</td>\n",
    "        <td>Número de meses que el cliente tiene pagos vencidos.</td>\n",
    "    </tr>\n",
    "    <tr>\n",
    "        <td>INGRESO_INFERIDO</td>\n",
    "        <td>Estimación del ingreso mensual del cliente.</td>\n",
    "    </tr>\n",
    "    <tr>\n",
    "        <td>NIVEL_RIESGO</td>\n",
    "        <td> Nivel de riesgo estimado para el cliente en función de su  historial crediticio y otras características.</td>\n",
    "    </tr>\n",
    "    <tr>\n",
    "        <td>SOLICITUDES_RECHAZADAS</td>\n",
    "        <td>Número de solicitudes rechazadas del cliente.</td>\n",
    "    </tr>\n",
    "    <tr>\n",
    "        <td>SCORE_CLIENTE</td>\n",
    "        <td>Puntuación general del cliente, calculada por el sistema de reglas de decisión del banco.</td>\n",
    "    </tr>\n",
    "    <tr>\n",
    "        <td>SCORE_COMPORTAMIENTO</td>\n",
    "        <td>Puntaje que evalúa el comportamiento de pago del cliente en  otros productos crediticios del banco.</td>\n",
    "    </tr>\n",
    "    <tr>\n",
    "        <td>EDAD</td>\n",
    "        <td>Edad del solicitante.</td>\n",
    "    </tr>\n",
    "    <tr>\n",
    "        <td>TIPO_VIVIENDA</td>\n",
    "        <td>Tipo de vivienda del solicitante.</td>\n",
    "    </tr>\n",
    "    <tr>\n",
    "        <td>ESCOLARIDAD</td>\n",
    "        <td>Edad del solicitante.</td>\n",
    "    </tr>\n",
    "</table>"
   ]
  },
  {
   "cell_type": "markdown",
   "id": "4c94e1e0",
   "metadata": {},
   "source": [
    "<h2>Análisis exploratorio de los datos (EDA)</h2>"
   ]
  },
  {
   "cell_type": "markdown",
   "id": "e0b3a842",
   "metadata": {},
   "source": [
    "<h3>Importar módulos requeridos</h3>"
   ]
  },
  {
   "cell_type": "code",
   "execution_count": 1,
   "id": "a0e97323",
   "metadata": {},
   "outputs": [],
   "source": [
    "import numpy as np\n",
    "import pandas as pd\n",
    "import matplotlib.pyplot as plt\n",
    "import seaborn as sns"
   ]
  },
  {
   "cell_type": "markdown",
   "id": "ad823123",
   "metadata": {},
   "source": [
    "<h3>Cargar el dataset</h3>"
   ]
  },
  {
   "cell_type": "code",
   "execution_count": 2,
   "id": "b1e83eb4",
   "metadata": {},
   "outputs": [],
   "source": [
    "from inf_bancaria.config import data_path"
   ]
  },
  {
   "cell_type": "code",
   "execution_count": 3,
   "id": "5154b4cf",
   "metadata": {},
   "outputs": [],
   "source": [
    "df = pd.read_csv(data_path)"
   ]
  },
  {
   "cell_type": "markdown",
   "id": "7de35199",
   "metadata": {},
   "source": [
    "<h3>Estructura básica del dataset</h3>"
   ]
  },
  {
   "cell_type": "code",
   "execution_count": 4,
   "id": "961770d3",
   "metadata": {},
   "outputs": [
    {
     "data": {
      "application/vnd.microsoft.datawrangler.viewer.v0+json": {
       "columns": [
        {
         "name": "index",
         "rawType": "int64",
         "type": "integer"
        },
        {
         "name": "NUM_SOLICITUD",
         "rawType": "float64",
         "type": "float"
        },
        {
         "name": "SUCURSAL",
         "rawType": "int64",
         "type": "integer"
        },
        {
         "name": "STATUS_SOLICITUD",
         "rawType": "object",
         "type": "string"
        },
        {
         "name": "PUNTO_DECISION",
         "rawType": "object",
         "type": "string"
        },
        {
         "name": "APROBACION_TC",
         "rawType": "object",
         "type": "string"
        },
        {
         "name": "TIPO_CTE",
         "rawType": "object",
         "type": "string"
        },
        {
         "name": "LINEA_CREDITO_FINAL",
         "rawType": "int64",
         "type": "integer"
        },
        {
         "name": "CUENTA_ASIGNADA",
         "rawType": "float64",
         "type": "float"
        },
        {
         "name": "MESES_VENCIDOS",
         "rawType": "float64",
         "type": "float"
        },
        {
         "name": "SALDO_CUENTA",
         "rawType": "object",
         "type": "unknown"
        },
        {
         "name": "CAPACIDAD_TC",
         "rawType": "object",
         "type": "unknown"
        },
        {
         "name": "INGRESO_INFERIDO",
         "rawType": "int64",
         "type": "integer"
        },
        {
         "name": "COMPROBANTE_INGRESOS",
         "rawType": "object",
         "type": "string"
        },
        {
         "name": "SEGMENTO_CLIENTE",
         "rawType": "object",
         "type": "unknown"
        },
        {
         "name": "CLIENTE_CDE",
         "rawType": "object",
         "type": "string"
        },
        {
         "name": "SUMA_LINEAS_REVOLVENTES",
         "rawType": "int64",
         "type": "integer"
        },
        {
         "name": "NIVEL_RIESGO",
         "rawType": "object",
         "type": "string"
        },
        {
         "name": "CAPACIDAD_PAGO_TOTAL",
         "rawType": "object",
         "type": "string"
        },
        {
         "name": "SOLICITUDES_RECHAZADAS",
         "rawType": "int64",
         "type": "integer"
        },
        {
         "name": "SCORE_CLIENTE",
         "rawType": "int64",
         "type": "integer"
        },
        {
         "name": "SCORE_COMPORTAMIENTO",
         "rawType": "int64",
         "type": "integer"
        },
        {
         "name": "PEOR_MOP_TARJETAS",
         "rawType": "int64",
         "type": "integer"
        },
        {
         "name": "SUMA_SALDOS_TARJETAS",
         "rawType": "int64",
         "type": "integer"
        },
        {
         "name": "SUMA_PAGO_MIN_TARJETAS",
         "rawType": "int64",
         "type": "integer"
        },
        {
         "name": "PEOR_HISTORIA_CREDITO",
         "rawType": "int64",
         "type": "integer"
        },
        {
         "name": "SUMA_SALDOS_TOTAL",
         "rawType": "int64",
         "type": "integer"
        },
        {
         "name": "NUM_CREDITOS",
         "rawType": "int64",
         "type": "integer"
        },
        {
         "name": "EDAD",
         "rawType": "int64",
         "type": "integer"
        },
        {
         "name": "TIPO_VIVIENDA",
         "rawType": "object",
         "type": "string"
        },
        {
         "name": "ESCOLARIDAD",
         "rawType": "object",
         "type": "string"
        }
       ],
       "ref": "794c8c88-bcc6-47e4-8e4d-80944e259e31",
       "rows": [
        [
         "0",
         "2.01e+16",
         "4357",
         "Rechazada",
         "PS1",
         "Rechazado",
         "MALO",
         "0",
         null,
         null,
         null,
         null,
         "4500",
         "RECIBOS DE NOMINA",
         null,
         "NO_CLIENTE",
         "0",
         "Alto",
         "0%",
         "5",
         "89",
         "0",
         "0",
         "0",
         "0",
         "0",
         "0",
         "0",
         "25",
         "Renta",
         "Preparatoria"
        ],
        [
         "1",
         "2.01e+16",
         "164",
         "Rechazada",
         "PS1",
         "Rechazado",
         "MALO",
         "0",
         null,
         null,
         null,
         null,
         "4780",
         "RECIBOS DE NOMINA",
         null,
         "NO_CLIENTE",
         "0",
         "Alto",
         "0%",
         "4",
         "89",
         "0",
         "0",
         "0",
         "0",
         "0",
         "0",
         "0",
         "25",
         "Familiares",
         "Licenciatura"
        ],
        [
         "2",
         "2.01e+16",
         "306",
         "Rechazada",
         "PS1",
         "Rechazado",
         "MALO",
         "0",
         null,
         null,
         null,
         null,
         "4520",
         "RECIBOS DE NOMINA",
         null,
         "NO_CLIENTE",
         "0",
         "Alto",
         "0%",
         "5",
         "89",
         "0",
         "0",
         "0",
         "0",
         "0",
         "0",
         "0",
         "25",
         "Familiares",
         "Preparatoria"
        ],
        [
         "3",
         "2.01e+16",
         "951",
         "Rechazada",
         "PS1",
         "Rechazado",
         "MALO",
         "0",
         null,
         null,
         null,
         null,
         "5000",
         "RECIBOS DE NOMINA",
         null,
         "NO_CLIENTE",
         "0",
         "Alto",
         "0%",
         "4",
         "89",
         "0",
         "1",
         "1665",
         "450",
         "0",
         "0",
         "0",
         "25",
         "Renta",
         "Posgrado"
        ],
        [
         "4",
         "2.01e+16",
         "522",
         "Rechazada",
         "PS1",
         "Rechazado",
         "MALO",
         "0",
         null,
         null,
         null,
         null,
         "4950",
         "RECIBOS DE NOMINA",
         null,
         "NO_CLIENTE",
         "296000",
         "Alto",
         "0%",
         "4",
         "89",
         "0",
         "1",
         "30397",
         "1830",
         "0",
         "17050",
         "0",
         "25",
         "Renta",
         "Licenciatura"
        ],
        [
         "5",
         "2.01e+16",
         "4644",
         "Rechazada",
         "PS1",
         "Rechazado",
         "MALO",
         "0",
         null,
         null,
         null,
         null,
         "4780",
         "PROPIEDAD ACTIVO FIJO",
         null,
         "NO_CLIENTE",
         "28000",
         "Alto",
         "0%",
         "3",
         "90",
         "0",
         "0",
         "1193",
         "0",
         "0",
         "0",
         "0",
         "25",
         "Propia",
         "Licenciatura"
        ],
        [
         "6",
         "2.01e+16",
         "7796",
         "Rechazada",
         "PS1",
         "Rechazado",
         "MALO",
         "0",
         null,
         null,
         null,
         null,
         "5150",
         "RECIBOS DE NOMINA",
         null,
         "NO_CLIENTE",
         "0",
         "Alto",
         "0%",
         "3",
         "90",
         "0",
         "0",
         "0",
         "0",
         "0",
         "0",
         "0",
         "25",
         "Familiares",
         "Preparatoria"
        ],
        [
         "7",
         "2.01e+16",
         "10025",
         "Rechazada",
         "PS1",
         "Rechazado",
         "MALO",
         "0",
         null,
         null,
         null,
         null,
         "4725",
         "RECIBOS DE NOMINA",
         null,
         "NO_CLIENTE",
         "0",
         "Alto",
         "0%",
         "1",
         "90",
         "0",
         "0",
         "0",
         "0",
         "0",
         "0",
         "0",
         "25",
         "Familiares",
         "Preparatoria"
        ],
        [
         "8",
         "2.01e+16",
         "50012",
         "Cancelada",
         "PS1",
         "Rechazado",
         "MALO",
         "0",
         null,
         null,
         null,
         null,
         "5019",
         "SIN COMPROBANTE",
         null,
         "NO_CLIENTE",
         "0",
         "Alto",
         "0%",
         "5",
         "91",
         "0",
         "0",
         "0",
         "0",
         "0",
         "0",
         "0",
         "25",
         "Renta",
         "Posgrado"
        ],
        [
         "9",
         "2.01e+16",
         "165",
         "Rechazada",
         "PS1",
         "Rechazado",
         "MALO",
         "0",
         null,
         null,
         null,
         null,
         "4746",
         "PROPIEDAD ACTIVO FIJO",
         null,
         "NO_CLIENTE",
         "0",
         "Alto",
         "0%",
         "2",
         "91",
         "0",
         "0",
         "0",
         "0",
         "0",
         "0",
         "0",
         "25",
         "Propia",
         "Licenciatura"
        ]
       ],
       "shape": {
        "columns": 30,
        "rows": 10
       }
      },
      "text/html": [
       "<div>\n",
       "<style scoped>\n",
       "    .dataframe tbody tr th:only-of-type {\n",
       "        vertical-align: middle;\n",
       "    }\n",
       "\n",
       "    .dataframe tbody tr th {\n",
       "        vertical-align: top;\n",
       "    }\n",
       "\n",
       "    .dataframe thead th {\n",
       "        text-align: right;\n",
       "    }\n",
       "</style>\n",
       "<table border=\"1\" class=\"dataframe\">\n",
       "  <thead>\n",
       "    <tr style=\"text-align: right;\">\n",
       "      <th></th>\n",
       "      <th>NUM_SOLICITUD</th>\n",
       "      <th>SUCURSAL</th>\n",
       "      <th>STATUS_SOLICITUD</th>\n",
       "      <th>PUNTO_DECISION</th>\n",
       "      <th>APROBACION_TC</th>\n",
       "      <th>TIPO_CTE</th>\n",
       "      <th>LINEA_CREDITO_FINAL</th>\n",
       "      <th>CUENTA_ASIGNADA</th>\n",
       "      <th>MESES_VENCIDOS</th>\n",
       "      <th>SALDO_CUENTA</th>\n",
       "      <th>...</th>\n",
       "      <th>SCORE_COMPORTAMIENTO</th>\n",
       "      <th>PEOR_MOP_TARJETAS</th>\n",
       "      <th>SUMA_SALDOS_TARJETAS</th>\n",
       "      <th>SUMA_PAGO_MIN_TARJETAS</th>\n",
       "      <th>PEOR_HISTORIA_CREDITO</th>\n",
       "      <th>SUMA_SALDOS_TOTAL</th>\n",
       "      <th>NUM_CREDITOS</th>\n",
       "      <th>EDAD</th>\n",
       "      <th>TIPO_VIVIENDA</th>\n",
       "      <th>ESCOLARIDAD</th>\n",
       "    </tr>\n",
       "  </thead>\n",
       "  <tbody>\n",
       "    <tr>\n",
       "      <th>0</th>\n",
       "      <td>2.010000e+16</td>\n",
       "      <td>4357</td>\n",
       "      <td>Rechazada</td>\n",
       "      <td>PS1</td>\n",
       "      <td>Rechazado</td>\n",
       "      <td>MALO</td>\n",
       "      <td>0</td>\n",
       "      <td>NaN</td>\n",
       "      <td>NaN</td>\n",
       "      <td>NaN</td>\n",
       "      <td>...</td>\n",
       "      <td>0</td>\n",
       "      <td>0</td>\n",
       "      <td>0</td>\n",
       "      <td>0</td>\n",
       "      <td>0</td>\n",
       "      <td>0</td>\n",
       "      <td>0</td>\n",
       "      <td>25</td>\n",
       "      <td>Renta</td>\n",
       "      <td>Preparatoria</td>\n",
       "    </tr>\n",
       "    <tr>\n",
       "      <th>1</th>\n",
       "      <td>2.010000e+16</td>\n",
       "      <td>164</td>\n",
       "      <td>Rechazada</td>\n",
       "      <td>PS1</td>\n",
       "      <td>Rechazado</td>\n",
       "      <td>MALO</td>\n",
       "      <td>0</td>\n",
       "      <td>NaN</td>\n",
       "      <td>NaN</td>\n",
       "      <td>NaN</td>\n",
       "      <td>...</td>\n",
       "      <td>0</td>\n",
       "      <td>0</td>\n",
       "      <td>0</td>\n",
       "      <td>0</td>\n",
       "      <td>0</td>\n",
       "      <td>0</td>\n",
       "      <td>0</td>\n",
       "      <td>25</td>\n",
       "      <td>Familiares</td>\n",
       "      <td>Licenciatura</td>\n",
       "    </tr>\n",
       "    <tr>\n",
       "      <th>2</th>\n",
       "      <td>2.010000e+16</td>\n",
       "      <td>306</td>\n",
       "      <td>Rechazada</td>\n",
       "      <td>PS1</td>\n",
       "      <td>Rechazado</td>\n",
       "      <td>MALO</td>\n",
       "      <td>0</td>\n",
       "      <td>NaN</td>\n",
       "      <td>NaN</td>\n",
       "      <td>NaN</td>\n",
       "      <td>...</td>\n",
       "      <td>0</td>\n",
       "      <td>0</td>\n",
       "      <td>0</td>\n",
       "      <td>0</td>\n",
       "      <td>0</td>\n",
       "      <td>0</td>\n",
       "      <td>0</td>\n",
       "      <td>25</td>\n",
       "      <td>Familiares</td>\n",
       "      <td>Preparatoria</td>\n",
       "    </tr>\n",
       "    <tr>\n",
       "      <th>3</th>\n",
       "      <td>2.010000e+16</td>\n",
       "      <td>951</td>\n",
       "      <td>Rechazada</td>\n",
       "      <td>PS1</td>\n",
       "      <td>Rechazado</td>\n",
       "      <td>MALO</td>\n",
       "      <td>0</td>\n",
       "      <td>NaN</td>\n",
       "      <td>NaN</td>\n",
       "      <td>NaN</td>\n",
       "      <td>...</td>\n",
       "      <td>0</td>\n",
       "      <td>1</td>\n",
       "      <td>1665</td>\n",
       "      <td>450</td>\n",
       "      <td>0</td>\n",
       "      <td>0</td>\n",
       "      <td>0</td>\n",
       "      <td>25</td>\n",
       "      <td>Renta</td>\n",
       "      <td>Posgrado</td>\n",
       "    </tr>\n",
       "    <tr>\n",
       "      <th>4</th>\n",
       "      <td>2.010000e+16</td>\n",
       "      <td>522</td>\n",
       "      <td>Rechazada</td>\n",
       "      <td>PS1</td>\n",
       "      <td>Rechazado</td>\n",
       "      <td>MALO</td>\n",
       "      <td>0</td>\n",
       "      <td>NaN</td>\n",
       "      <td>NaN</td>\n",
       "      <td>NaN</td>\n",
       "      <td>...</td>\n",
       "      <td>0</td>\n",
       "      <td>1</td>\n",
       "      <td>30397</td>\n",
       "      <td>1830</td>\n",
       "      <td>0</td>\n",
       "      <td>17050</td>\n",
       "      <td>0</td>\n",
       "      <td>25</td>\n",
       "      <td>Renta</td>\n",
       "      <td>Licenciatura</td>\n",
       "    </tr>\n",
       "    <tr>\n",
       "      <th>5</th>\n",
       "      <td>2.010000e+16</td>\n",
       "      <td>4644</td>\n",
       "      <td>Rechazada</td>\n",
       "      <td>PS1</td>\n",
       "      <td>Rechazado</td>\n",
       "      <td>MALO</td>\n",
       "      <td>0</td>\n",
       "      <td>NaN</td>\n",
       "      <td>NaN</td>\n",
       "      <td>NaN</td>\n",
       "      <td>...</td>\n",
       "      <td>0</td>\n",
       "      <td>0</td>\n",
       "      <td>1193</td>\n",
       "      <td>0</td>\n",
       "      <td>0</td>\n",
       "      <td>0</td>\n",
       "      <td>0</td>\n",
       "      <td>25</td>\n",
       "      <td>Propia</td>\n",
       "      <td>Licenciatura</td>\n",
       "    </tr>\n",
       "    <tr>\n",
       "      <th>6</th>\n",
       "      <td>2.010000e+16</td>\n",
       "      <td>7796</td>\n",
       "      <td>Rechazada</td>\n",
       "      <td>PS1</td>\n",
       "      <td>Rechazado</td>\n",
       "      <td>MALO</td>\n",
       "      <td>0</td>\n",
       "      <td>NaN</td>\n",
       "      <td>NaN</td>\n",
       "      <td>NaN</td>\n",
       "      <td>...</td>\n",
       "      <td>0</td>\n",
       "      <td>0</td>\n",
       "      <td>0</td>\n",
       "      <td>0</td>\n",
       "      <td>0</td>\n",
       "      <td>0</td>\n",
       "      <td>0</td>\n",
       "      <td>25</td>\n",
       "      <td>Familiares</td>\n",
       "      <td>Preparatoria</td>\n",
       "    </tr>\n",
       "    <tr>\n",
       "      <th>7</th>\n",
       "      <td>2.010000e+16</td>\n",
       "      <td>10025</td>\n",
       "      <td>Rechazada</td>\n",
       "      <td>PS1</td>\n",
       "      <td>Rechazado</td>\n",
       "      <td>MALO</td>\n",
       "      <td>0</td>\n",
       "      <td>NaN</td>\n",
       "      <td>NaN</td>\n",
       "      <td>NaN</td>\n",
       "      <td>...</td>\n",
       "      <td>0</td>\n",
       "      <td>0</td>\n",
       "      <td>0</td>\n",
       "      <td>0</td>\n",
       "      <td>0</td>\n",
       "      <td>0</td>\n",
       "      <td>0</td>\n",
       "      <td>25</td>\n",
       "      <td>Familiares</td>\n",
       "      <td>Preparatoria</td>\n",
       "    </tr>\n",
       "    <tr>\n",
       "      <th>8</th>\n",
       "      <td>2.010000e+16</td>\n",
       "      <td>50012</td>\n",
       "      <td>Cancelada</td>\n",
       "      <td>PS1</td>\n",
       "      <td>Rechazado</td>\n",
       "      <td>MALO</td>\n",
       "      <td>0</td>\n",
       "      <td>NaN</td>\n",
       "      <td>NaN</td>\n",
       "      <td>NaN</td>\n",
       "      <td>...</td>\n",
       "      <td>0</td>\n",
       "      <td>0</td>\n",
       "      <td>0</td>\n",
       "      <td>0</td>\n",
       "      <td>0</td>\n",
       "      <td>0</td>\n",
       "      <td>0</td>\n",
       "      <td>25</td>\n",
       "      <td>Renta</td>\n",
       "      <td>Posgrado</td>\n",
       "    </tr>\n",
       "    <tr>\n",
       "      <th>9</th>\n",
       "      <td>2.010000e+16</td>\n",
       "      <td>165</td>\n",
       "      <td>Rechazada</td>\n",
       "      <td>PS1</td>\n",
       "      <td>Rechazado</td>\n",
       "      <td>MALO</td>\n",
       "      <td>0</td>\n",
       "      <td>NaN</td>\n",
       "      <td>NaN</td>\n",
       "      <td>NaN</td>\n",
       "      <td>...</td>\n",
       "      <td>0</td>\n",
       "      <td>0</td>\n",
       "      <td>0</td>\n",
       "      <td>0</td>\n",
       "      <td>0</td>\n",
       "      <td>0</td>\n",
       "      <td>0</td>\n",
       "      <td>25</td>\n",
       "      <td>Propia</td>\n",
       "      <td>Licenciatura</td>\n",
       "    </tr>\n",
       "  </tbody>\n",
       "</table>\n",
       "<p>10 rows × 30 columns</p>\n",
       "</div>"
      ],
      "text/plain": [
       "   NUM_SOLICITUD  SUCURSAL STATUS_SOLICITUD PUNTO_DECISION APROBACION_TC  \\\n",
       "0   2.010000e+16      4357        Rechazada            PS1     Rechazado   \n",
       "1   2.010000e+16       164        Rechazada            PS1     Rechazado   \n",
       "2   2.010000e+16       306        Rechazada            PS1     Rechazado   \n",
       "3   2.010000e+16       951        Rechazada            PS1     Rechazado   \n",
       "4   2.010000e+16       522        Rechazada            PS1     Rechazado   \n",
       "5   2.010000e+16      4644        Rechazada            PS1     Rechazado   \n",
       "6   2.010000e+16      7796        Rechazada            PS1     Rechazado   \n",
       "7   2.010000e+16     10025        Rechazada            PS1     Rechazado   \n",
       "8   2.010000e+16     50012        Cancelada            PS1     Rechazado   \n",
       "9   2.010000e+16       165        Rechazada            PS1     Rechazado   \n",
       "\n",
       "  TIPO_CTE  LINEA_CREDITO_FINAL  CUENTA_ASIGNADA  MESES_VENCIDOS SALDO_CUENTA  \\\n",
       "0     MALO                    0              NaN             NaN          NaN   \n",
       "1     MALO                    0              NaN             NaN          NaN   \n",
       "2     MALO                    0              NaN             NaN          NaN   \n",
       "3     MALO                    0              NaN             NaN          NaN   \n",
       "4     MALO                    0              NaN             NaN          NaN   \n",
       "5     MALO                    0              NaN             NaN          NaN   \n",
       "6     MALO                    0              NaN             NaN          NaN   \n",
       "7     MALO                    0              NaN             NaN          NaN   \n",
       "8     MALO                    0              NaN             NaN          NaN   \n",
       "9     MALO                    0              NaN             NaN          NaN   \n",
       "\n",
       "   ... SCORE_COMPORTAMIENTO  PEOR_MOP_TARJETAS SUMA_SALDOS_TARJETAS  \\\n",
       "0  ...                    0                  0                    0   \n",
       "1  ...                    0                  0                    0   \n",
       "2  ...                    0                  0                    0   \n",
       "3  ...                    0                  1                 1665   \n",
       "4  ...                    0                  1                30397   \n",
       "5  ...                    0                  0                 1193   \n",
       "6  ...                    0                  0                    0   \n",
       "7  ...                    0                  0                    0   \n",
       "8  ...                    0                  0                    0   \n",
       "9  ...                    0                  0                    0   \n",
       "\n",
       "  SUMA_PAGO_MIN_TARJETAS PEOR_HISTORIA_CREDITO  SUMA_SALDOS_TOTAL  \\\n",
       "0                      0                     0                  0   \n",
       "1                      0                     0                  0   \n",
       "2                      0                     0                  0   \n",
       "3                    450                     0                  0   \n",
       "4                   1830                     0              17050   \n",
       "5                      0                     0                  0   \n",
       "6                      0                     0                  0   \n",
       "7                      0                     0                  0   \n",
       "8                      0                     0                  0   \n",
       "9                      0                     0                  0   \n",
       "\n",
       "  NUM_CREDITOS EDAD  TIPO_VIVIENDA   ESCOLARIDAD  \n",
       "0            0   25          Renta  Preparatoria  \n",
       "1            0   25     Familiares  Licenciatura  \n",
       "2            0   25     Familiares  Preparatoria  \n",
       "3            0   25          Renta      Posgrado  \n",
       "4            0   25          Renta  Licenciatura  \n",
       "5            0   25         Propia  Licenciatura  \n",
       "6            0   25     Familiares  Preparatoria  \n",
       "7            0   25     Familiares  Preparatoria  \n",
       "8            0   25          Renta      Posgrado  \n",
       "9            0   25         Propia  Licenciatura  \n",
       "\n",
       "[10 rows x 30 columns]"
      ]
     },
     "execution_count": 4,
     "metadata": {},
     "output_type": "execute_result"
    }
   ],
   "source": [
    "df.head(10)"
   ]
  },
  {
   "cell_type": "code",
   "execution_count": 5,
   "id": "9ed4dad8",
   "metadata": {},
   "outputs": [
    {
     "data": {
      "text/plain": [
       "(4200, 30)"
      ]
     },
     "execution_count": 5,
     "metadata": {},
     "output_type": "execute_result"
    }
   ],
   "source": [
    "df.shape"
   ]
  },
  {
   "cell_type": "code",
   "execution_count": 6,
   "id": "e8caa744",
   "metadata": {},
   "outputs": [
    {
     "name": "stdout",
     "output_type": "stream",
     "text": [
      "<class 'pandas.core.frame.DataFrame'>\n",
      "RangeIndex: 4200 entries, 0 to 4199\n",
      "Data columns (total 30 columns):\n",
      " #   Column                   Non-Null Count  Dtype  \n",
      "---  ------                   --------------  -----  \n",
      " 0   NUM_SOLICITUD            4200 non-null   float64\n",
      " 1   SUCURSAL                 4200 non-null   int64  \n",
      " 2   STATUS_SOLICITUD         4200 non-null   object \n",
      " 3   PUNTO_DECISION           4200 non-null   object \n",
      " 4   APROBACION_TC            4200 non-null   object \n",
      " 5   TIPO_CTE                 4200 non-null   object \n",
      " 6   LINEA_CREDITO_FINAL      4200 non-null   int64  \n",
      " 7   CUENTA_ASIGNADA          1281 non-null   float64\n",
      " 8   MESES_VENCIDOS           1281 non-null   float64\n",
      " 9   SALDO_CUENTA             1281 non-null   object \n",
      " 10  CAPACIDAD_TC             1279 non-null   object \n",
      " 11  INGRESO_INFERIDO         4200 non-null   int64  \n",
      " 12  COMPROBANTE_INGRESOS     4200 non-null   object \n",
      " 13  SEGMENTO_CLIENTE         1369 non-null   object \n",
      " 14  CLIENTE_CDE              4200 non-null   object \n",
      " 15  SUMA_LINEAS_REVOLVENTES  4200 non-null   int64  \n",
      " 16  NIVEL_RIESGO             4200 non-null   object \n",
      " 17  CAPACIDAD_PAGO_TOTAL     4200 non-null   object \n",
      " 18  SOLICITUDES_RECHAZADAS   4200 non-null   int64  \n",
      " 19  SCORE_CLIENTE            4200 non-null   int64  \n",
      " 20  SCORE_COMPORTAMIENTO     4200 non-null   int64  \n",
      " 21  PEOR_MOP_TARJETAS        4200 non-null   int64  \n",
      " 22  SUMA_SALDOS_TARJETAS     4200 non-null   int64  \n",
      " 23  SUMA_PAGO_MIN_TARJETAS   4200 non-null   int64  \n",
      " 24  PEOR_HISTORIA_CREDITO    4200 non-null   int64  \n",
      " 25  SUMA_SALDOS_TOTAL        4200 non-null   int64  \n",
      " 26  NUM_CREDITOS             4200 non-null   int64  \n",
      " 27  EDAD                     4200 non-null   int64  \n",
      " 28  TIPO_VIVIENDA            4200 non-null   object \n",
      " 29  ESCOLARIDAD              4200 non-null   object \n",
      "dtypes: float64(3), int64(14), object(13)\n",
      "memory usage: 984.5+ KB\n"
     ]
    }
   ],
   "source": [
    "df.info()"
   ]
  },
  {
   "cell_type": "code",
   "execution_count": 7,
   "id": "134d9e07",
   "metadata": {},
   "outputs": [
    {
     "data": {
      "application/vnd.microsoft.datawrangler.viewer.v0+json": {
       "columns": [
        {
         "name": "index",
         "rawType": "object",
         "type": "string"
        },
        {
         "name": "0",
         "rawType": "int64",
         "type": "integer"
        }
       ],
       "ref": "8ee2b62c-4055-4233-835f-14503f1229e7",
       "rows": [
        [
         "NUM_SOLICITUD",
         "1"
        ],
        [
         "SUCURSAL",
         "1387"
        ],
        [
         "STATUS_SOLICITUD",
         "5"
        ],
        [
         "PUNTO_DECISION",
         "2"
        ],
        [
         "APROBACION_TC",
         "3"
        ],
        [
         "TIPO_CTE",
         "3"
        ],
        [
         "LINEA_CREDITO_FINAL",
         "313"
        ],
        [
         "CUENTA_ASIGNADA",
         "1"
        ],
        [
         "MESES_VENCIDOS",
         "4"
        ],
        [
         "SALDO_CUENTA",
         "913"
        ],
        [
         "CAPACIDAD_TC",
         "107"
        ],
        [
         "INGRESO_INFERIDO",
         "4024"
        ],
        [
         "COMPROBANTE_INGRESOS",
         "8"
        ],
        [
         "SEGMENTO_CLIENTE",
         "7"
        ],
        [
         "CLIENTE_CDE",
         "2"
        ],
        [
         "SUMA_LINEAS_REVOLVENTES",
         "422"
        ],
        [
         "NIVEL_RIESGO",
         "4"
        ],
        [
         "CAPACIDAD_PAGO_TOTAL",
         "107"
        ],
        [
         "SOLICITUDES_RECHAZADAS",
         "6"
        ],
        [
         "SCORE_CLIENTE",
         "163"
        ],
        [
         "SCORE_COMPORTAMIENTO",
         "163"
        ],
        [
         "PEOR_MOP_TARJETAS",
         "9"
        ],
        [
         "SUMA_SALDOS_TARJETAS",
         "1048"
        ],
        [
         "SUMA_PAGO_MIN_TARJETAS",
         "288"
        ],
        [
         "PEOR_HISTORIA_CREDITO",
         "1"
        ],
        [
         "SUMA_SALDOS_TOTAL",
         "548"
        ],
        [
         "NUM_CREDITOS",
         "3"
        ],
        [
         "EDAD",
         "36"
        ],
        [
         "TIPO_VIVIENDA",
         "4"
        ],
        [
         "ESCOLARIDAD",
         "4"
        ]
       ],
       "shape": {
        "columns": 1,
        "rows": 30
       }
      },
      "text/plain": [
       "NUM_SOLICITUD                 1\n",
       "SUCURSAL                   1387\n",
       "STATUS_SOLICITUD              5\n",
       "PUNTO_DECISION                2\n",
       "APROBACION_TC                 3\n",
       "TIPO_CTE                      3\n",
       "LINEA_CREDITO_FINAL         313\n",
       "CUENTA_ASIGNADA               1\n",
       "MESES_VENCIDOS                4\n",
       "SALDO_CUENTA                913\n",
       "CAPACIDAD_TC                107\n",
       "INGRESO_INFERIDO           4024\n",
       "COMPROBANTE_INGRESOS          8\n",
       "SEGMENTO_CLIENTE              7\n",
       "CLIENTE_CDE                   2\n",
       "SUMA_LINEAS_REVOLVENTES     422\n",
       "NIVEL_RIESGO                  4\n",
       "CAPACIDAD_PAGO_TOTAL        107\n",
       "SOLICITUDES_RECHAZADAS        6\n",
       "SCORE_CLIENTE               163\n",
       "SCORE_COMPORTAMIENTO        163\n",
       "PEOR_MOP_TARJETAS             9\n",
       "SUMA_SALDOS_TARJETAS       1048\n",
       "SUMA_PAGO_MIN_TARJETAS      288\n",
       "PEOR_HISTORIA_CREDITO         1\n",
       "SUMA_SALDOS_TOTAL           548\n",
       "NUM_CREDITOS                  3\n",
       "EDAD                         36\n",
       "TIPO_VIVIENDA                 4\n",
       "ESCOLARIDAD                   4\n",
       "dtype: int64"
      ]
     },
     "execution_count": 7,
     "metadata": {},
     "output_type": "execute_result"
    }
   ],
   "source": [
    "df.nunique()"
   ]
  },
  {
   "cell_type": "markdown",
   "id": "f18b5ef9",
   "metadata": {},
   "source": [
    "<h3>Tipos de datos y datos faltantes</h3>"
   ]
  },
  {
   "cell_type": "code",
   "execution_count": 8,
   "id": "7d0361b6",
   "metadata": {},
   "outputs": [
    {
     "data": {
      "application/vnd.microsoft.datawrangler.viewer.v0+json": {
       "columns": [
        {
         "name": "index",
         "rawType": "object",
         "type": "string"
        },
        {
         "name": "0",
         "rawType": "object",
         "type": "unknown"
        }
       ],
       "ref": "6656388a-024c-49a4-bc6f-a89064e96e80",
       "rows": [
        [
         "NUM_SOLICITUD",
         "float64"
        ],
        [
         "SUCURSAL",
         "int64"
        ],
        [
         "STATUS_SOLICITUD",
         "object"
        ],
        [
         "PUNTO_DECISION",
         "object"
        ],
        [
         "APROBACION_TC",
         "object"
        ],
        [
         "TIPO_CTE",
         "object"
        ],
        [
         "LINEA_CREDITO_FINAL",
         "int64"
        ],
        [
         "CUENTA_ASIGNADA",
         "float64"
        ],
        [
         "MESES_VENCIDOS",
         "float64"
        ],
        [
         "SALDO_CUENTA",
         "object"
        ],
        [
         "CAPACIDAD_TC",
         "object"
        ],
        [
         "INGRESO_INFERIDO",
         "int64"
        ],
        [
         "COMPROBANTE_INGRESOS",
         "object"
        ],
        [
         "SEGMENTO_CLIENTE",
         "object"
        ],
        [
         "CLIENTE_CDE",
         "object"
        ],
        [
         "SUMA_LINEAS_REVOLVENTES",
         "int64"
        ],
        [
         "NIVEL_RIESGO",
         "object"
        ],
        [
         "CAPACIDAD_PAGO_TOTAL",
         "object"
        ],
        [
         "SOLICITUDES_RECHAZADAS",
         "int64"
        ],
        [
         "SCORE_CLIENTE",
         "int64"
        ],
        [
         "SCORE_COMPORTAMIENTO",
         "int64"
        ],
        [
         "PEOR_MOP_TARJETAS",
         "int64"
        ],
        [
         "SUMA_SALDOS_TARJETAS",
         "int64"
        ],
        [
         "SUMA_PAGO_MIN_TARJETAS",
         "int64"
        ],
        [
         "PEOR_HISTORIA_CREDITO",
         "int64"
        ],
        [
         "SUMA_SALDOS_TOTAL",
         "int64"
        ],
        [
         "NUM_CREDITOS",
         "int64"
        ],
        [
         "EDAD",
         "int64"
        ],
        [
         "TIPO_VIVIENDA",
         "object"
        ],
        [
         "ESCOLARIDAD",
         "object"
        ]
       ],
       "shape": {
        "columns": 1,
        "rows": 30
       }
      },
      "text/plain": [
       "NUM_SOLICITUD              float64\n",
       "SUCURSAL                     int64\n",
       "STATUS_SOLICITUD            object\n",
       "PUNTO_DECISION              object\n",
       "APROBACION_TC               object\n",
       "TIPO_CTE                    object\n",
       "LINEA_CREDITO_FINAL          int64\n",
       "CUENTA_ASIGNADA            float64\n",
       "MESES_VENCIDOS             float64\n",
       "SALDO_CUENTA                object\n",
       "CAPACIDAD_TC                object\n",
       "INGRESO_INFERIDO             int64\n",
       "COMPROBANTE_INGRESOS        object\n",
       "SEGMENTO_CLIENTE            object\n",
       "CLIENTE_CDE                 object\n",
       "SUMA_LINEAS_REVOLVENTES      int64\n",
       "NIVEL_RIESGO                object\n",
       "CAPACIDAD_PAGO_TOTAL        object\n",
       "SOLICITUDES_RECHAZADAS       int64\n",
       "SCORE_CLIENTE                int64\n",
       "SCORE_COMPORTAMIENTO         int64\n",
       "PEOR_MOP_TARJETAS            int64\n",
       "SUMA_SALDOS_TARJETAS         int64\n",
       "SUMA_PAGO_MIN_TARJETAS       int64\n",
       "PEOR_HISTORIA_CREDITO        int64\n",
       "SUMA_SALDOS_TOTAL            int64\n",
       "NUM_CREDITOS                 int64\n",
       "EDAD                         int64\n",
       "TIPO_VIVIENDA               object\n",
       "ESCOLARIDAD                 object\n",
       "dtype: object"
      ]
     },
     "execution_count": 8,
     "metadata": {},
     "output_type": "execute_result"
    }
   ],
   "source": [
    "df.dtypes"
   ]
  },
  {
   "cell_type": "code",
   "execution_count": 9,
   "id": "37b0da46",
   "metadata": {},
   "outputs": [
    {
     "data": {
      "application/vnd.microsoft.datawrangler.viewer.v0+json": {
       "columns": [
        {
         "name": "index",
         "rawType": "object",
         "type": "string"
        },
        {
         "name": "0",
         "rawType": "int64",
         "type": "integer"
        }
       ],
       "ref": "98fdeae3-2d7d-4a12-897e-79d863a9d3d3",
       "rows": [
        [
         "NUM_SOLICITUD",
         "0"
        ],
        [
         "SUCURSAL",
         "0"
        ],
        [
         "STATUS_SOLICITUD",
         "0"
        ],
        [
         "PUNTO_DECISION",
         "0"
        ],
        [
         "APROBACION_TC",
         "0"
        ],
        [
         "TIPO_CTE",
         "0"
        ],
        [
         "LINEA_CREDITO_FINAL",
         "0"
        ],
        [
         "CUENTA_ASIGNADA",
         "2919"
        ],
        [
         "MESES_VENCIDOS",
         "2919"
        ],
        [
         "SALDO_CUENTA",
         "2919"
        ],
        [
         "CAPACIDAD_TC",
         "2921"
        ],
        [
         "INGRESO_INFERIDO",
         "0"
        ],
        [
         "COMPROBANTE_INGRESOS",
         "0"
        ],
        [
         "SEGMENTO_CLIENTE",
         "2831"
        ],
        [
         "CLIENTE_CDE",
         "0"
        ],
        [
         "SUMA_LINEAS_REVOLVENTES",
         "0"
        ],
        [
         "NIVEL_RIESGO",
         "0"
        ],
        [
         "CAPACIDAD_PAGO_TOTAL",
         "0"
        ],
        [
         "SOLICITUDES_RECHAZADAS",
         "0"
        ],
        [
         "SCORE_CLIENTE",
         "0"
        ],
        [
         "SCORE_COMPORTAMIENTO",
         "0"
        ],
        [
         "PEOR_MOP_TARJETAS",
         "0"
        ],
        [
         "SUMA_SALDOS_TARJETAS",
         "0"
        ],
        [
         "SUMA_PAGO_MIN_TARJETAS",
         "0"
        ],
        [
         "PEOR_HISTORIA_CREDITO",
         "0"
        ],
        [
         "SUMA_SALDOS_TOTAL",
         "0"
        ],
        [
         "NUM_CREDITOS",
         "0"
        ],
        [
         "EDAD",
         "0"
        ],
        [
         "TIPO_VIVIENDA",
         "0"
        ],
        [
         "ESCOLARIDAD",
         "0"
        ]
       ],
       "shape": {
        "columns": 1,
        "rows": 30
       }
      },
      "text/plain": [
       "NUM_SOLICITUD                 0\n",
       "SUCURSAL                      0\n",
       "STATUS_SOLICITUD              0\n",
       "PUNTO_DECISION                0\n",
       "APROBACION_TC                 0\n",
       "TIPO_CTE                      0\n",
       "LINEA_CREDITO_FINAL           0\n",
       "CUENTA_ASIGNADA            2919\n",
       "MESES_VENCIDOS             2919\n",
       "SALDO_CUENTA               2919\n",
       "CAPACIDAD_TC               2921\n",
       "INGRESO_INFERIDO              0\n",
       "COMPROBANTE_INGRESOS          0\n",
       "SEGMENTO_CLIENTE           2831\n",
       "CLIENTE_CDE                   0\n",
       "SUMA_LINEAS_REVOLVENTES       0\n",
       "NIVEL_RIESGO                  0\n",
       "CAPACIDAD_PAGO_TOTAL          0\n",
       "SOLICITUDES_RECHAZADAS        0\n",
       "SCORE_CLIENTE                 0\n",
       "SCORE_COMPORTAMIENTO          0\n",
       "PEOR_MOP_TARJETAS             0\n",
       "SUMA_SALDOS_TARJETAS          0\n",
       "SUMA_PAGO_MIN_TARJETAS        0\n",
       "PEOR_HISTORIA_CREDITO         0\n",
       "SUMA_SALDOS_TOTAL             0\n",
       "NUM_CREDITOS                  0\n",
       "EDAD                          0\n",
       "TIPO_VIVIENDA                 0\n",
       "ESCOLARIDAD                   0\n",
       "dtype: int64"
      ]
     },
     "execution_count": 9,
     "metadata": {},
     "output_type": "execute_result"
    }
   ],
   "source": [
    "df.isnull().sum()"
   ]
  },
  {
   "cell_type": "markdown",
   "id": "cdf723b2",
   "metadata": {},
   "source": [
    "<h2>Tratamiento de los datos</h2>"
   ]
  },
  {
   "cell_type": "markdown",
   "id": "d625f3dd",
   "metadata": {},
   "source": [
    "<h3>Eliminar variables innecesarias</h3>"
   ]
  },
  {
   "cell_type": "code",
   "execution_count": 10,
   "id": "05fb9cf6",
   "metadata": {},
   "outputs": [],
   "source": [
    "from inf_bancaria.clean_data import remove_columns"
   ]
  },
  {
   "cell_type": "code",
   "execution_count": 11,
   "id": "55f6d16d",
   "metadata": {},
   "outputs": [],
   "source": [
    "df_clean = remove_columns(df)"
   ]
  },
  {
   "cell_type": "code",
   "execution_count": 12,
   "id": "6d07cb06",
   "metadata": {},
   "outputs": [
    {
     "data": {
      "application/vnd.microsoft.datawrangler.viewer.v0+json": {
       "columns": [
        {
         "name": "index",
         "rawType": "int64",
         "type": "integer"
        },
        {
         "name": "TIPO_CTE",
         "rawType": "object",
         "type": "string"
        },
        {
         "name": "MESES_VENCIDOS",
         "rawType": "float64",
         "type": "float"
        },
        {
         "name": "INGRESO_INFERIDO",
         "rawType": "int64",
         "type": "integer"
        },
        {
         "name": "NIVEL_RIESGO",
         "rawType": "object",
         "type": "string"
        },
        {
         "name": "SOLICITUDES_RECHAZADAS",
         "rawType": "int64",
         "type": "integer"
        },
        {
         "name": "SCORE_CLIENTE",
         "rawType": "int64",
         "type": "integer"
        },
        {
         "name": "SCORE_COMPORTAMIENTO",
         "rawType": "int64",
         "type": "integer"
        },
        {
         "name": "EDAD",
         "rawType": "int64",
         "type": "integer"
        },
        {
         "name": "TIPO_VIVIENDA",
         "rawType": "object",
         "type": "string"
        },
        {
         "name": "ESCOLARIDAD",
         "rawType": "object",
         "type": "string"
        }
       ],
       "ref": "8e9bfe44-c914-4d43-a6e3-d7fba5e30270",
       "rows": [
        [
         "0",
         "MALO",
         null,
         "4500",
         "Alto",
         "5",
         "89",
         "0",
         "25",
         "Renta",
         "Preparatoria"
        ],
        [
         "1",
         "MALO",
         null,
         "4780",
         "Alto",
         "4",
         "89",
         "0",
         "25",
         "Familiares",
         "Licenciatura"
        ],
        [
         "2",
         "MALO",
         null,
         "4520",
         "Alto",
         "5",
         "89",
         "0",
         "25",
         "Familiares",
         "Preparatoria"
        ],
        [
         "3",
         "MALO",
         null,
         "5000",
         "Alto",
         "4",
         "89",
         "0",
         "25",
         "Renta",
         "Posgrado"
        ],
        [
         "4",
         "MALO",
         null,
         "4950",
         "Alto",
         "4",
         "89",
         "0",
         "25",
         "Renta",
         "Licenciatura"
        ],
        [
         "5",
         "MALO",
         null,
         "4780",
         "Alto",
         "3",
         "90",
         "0",
         "25",
         "Propia",
         "Licenciatura"
        ],
        [
         "6",
         "MALO",
         null,
         "5150",
         "Alto",
         "3",
         "90",
         "0",
         "25",
         "Familiares",
         "Preparatoria"
        ],
        [
         "7",
         "MALO",
         null,
         "4725",
         "Alto",
         "1",
         "90",
         "0",
         "25",
         "Familiares",
         "Preparatoria"
        ],
        [
         "8",
         "MALO",
         null,
         "5019",
         "Alto",
         "5",
         "91",
         "0",
         "25",
         "Renta",
         "Posgrado"
        ],
        [
         "9",
         "MALO",
         null,
         "4746",
         "Alto",
         "2",
         "91",
         "0",
         "25",
         "Propia",
         "Licenciatura"
        ]
       ],
       "shape": {
        "columns": 10,
        "rows": 10
       }
      },
      "text/html": [
       "<div>\n",
       "<style scoped>\n",
       "    .dataframe tbody tr th:only-of-type {\n",
       "        vertical-align: middle;\n",
       "    }\n",
       "\n",
       "    .dataframe tbody tr th {\n",
       "        vertical-align: top;\n",
       "    }\n",
       "\n",
       "    .dataframe thead th {\n",
       "        text-align: right;\n",
       "    }\n",
       "</style>\n",
       "<table border=\"1\" class=\"dataframe\">\n",
       "  <thead>\n",
       "    <tr style=\"text-align: right;\">\n",
       "      <th></th>\n",
       "      <th>TIPO_CTE</th>\n",
       "      <th>MESES_VENCIDOS</th>\n",
       "      <th>INGRESO_INFERIDO</th>\n",
       "      <th>NIVEL_RIESGO</th>\n",
       "      <th>SOLICITUDES_RECHAZADAS</th>\n",
       "      <th>SCORE_CLIENTE</th>\n",
       "      <th>SCORE_COMPORTAMIENTO</th>\n",
       "      <th>EDAD</th>\n",
       "      <th>TIPO_VIVIENDA</th>\n",
       "      <th>ESCOLARIDAD</th>\n",
       "    </tr>\n",
       "  </thead>\n",
       "  <tbody>\n",
       "    <tr>\n",
       "      <th>0</th>\n",
       "      <td>MALO</td>\n",
       "      <td>NaN</td>\n",
       "      <td>4500</td>\n",
       "      <td>Alto</td>\n",
       "      <td>5</td>\n",
       "      <td>89</td>\n",
       "      <td>0</td>\n",
       "      <td>25</td>\n",
       "      <td>Renta</td>\n",
       "      <td>Preparatoria</td>\n",
       "    </tr>\n",
       "    <tr>\n",
       "      <th>1</th>\n",
       "      <td>MALO</td>\n",
       "      <td>NaN</td>\n",
       "      <td>4780</td>\n",
       "      <td>Alto</td>\n",
       "      <td>4</td>\n",
       "      <td>89</td>\n",
       "      <td>0</td>\n",
       "      <td>25</td>\n",
       "      <td>Familiares</td>\n",
       "      <td>Licenciatura</td>\n",
       "    </tr>\n",
       "    <tr>\n",
       "      <th>2</th>\n",
       "      <td>MALO</td>\n",
       "      <td>NaN</td>\n",
       "      <td>4520</td>\n",
       "      <td>Alto</td>\n",
       "      <td>5</td>\n",
       "      <td>89</td>\n",
       "      <td>0</td>\n",
       "      <td>25</td>\n",
       "      <td>Familiares</td>\n",
       "      <td>Preparatoria</td>\n",
       "    </tr>\n",
       "    <tr>\n",
       "      <th>3</th>\n",
       "      <td>MALO</td>\n",
       "      <td>NaN</td>\n",
       "      <td>5000</td>\n",
       "      <td>Alto</td>\n",
       "      <td>4</td>\n",
       "      <td>89</td>\n",
       "      <td>0</td>\n",
       "      <td>25</td>\n",
       "      <td>Renta</td>\n",
       "      <td>Posgrado</td>\n",
       "    </tr>\n",
       "    <tr>\n",
       "      <th>4</th>\n",
       "      <td>MALO</td>\n",
       "      <td>NaN</td>\n",
       "      <td>4950</td>\n",
       "      <td>Alto</td>\n",
       "      <td>4</td>\n",
       "      <td>89</td>\n",
       "      <td>0</td>\n",
       "      <td>25</td>\n",
       "      <td>Renta</td>\n",
       "      <td>Licenciatura</td>\n",
       "    </tr>\n",
       "    <tr>\n",
       "      <th>5</th>\n",
       "      <td>MALO</td>\n",
       "      <td>NaN</td>\n",
       "      <td>4780</td>\n",
       "      <td>Alto</td>\n",
       "      <td>3</td>\n",
       "      <td>90</td>\n",
       "      <td>0</td>\n",
       "      <td>25</td>\n",
       "      <td>Propia</td>\n",
       "      <td>Licenciatura</td>\n",
       "    </tr>\n",
       "    <tr>\n",
       "      <th>6</th>\n",
       "      <td>MALO</td>\n",
       "      <td>NaN</td>\n",
       "      <td>5150</td>\n",
       "      <td>Alto</td>\n",
       "      <td>3</td>\n",
       "      <td>90</td>\n",
       "      <td>0</td>\n",
       "      <td>25</td>\n",
       "      <td>Familiares</td>\n",
       "      <td>Preparatoria</td>\n",
       "    </tr>\n",
       "    <tr>\n",
       "      <th>7</th>\n",
       "      <td>MALO</td>\n",
       "      <td>NaN</td>\n",
       "      <td>4725</td>\n",
       "      <td>Alto</td>\n",
       "      <td>1</td>\n",
       "      <td>90</td>\n",
       "      <td>0</td>\n",
       "      <td>25</td>\n",
       "      <td>Familiares</td>\n",
       "      <td>Preparatoria</td>\n",
       "    </tr>\n",
       "    <tr>\n",
       "      <th>8</th>\n",
       "      <td>MALO</td>\n",
       "      <td>NaN</td>\n",
       "      <td>5019</td>\n",
       "      <td>Alto</td>\n",
       "      <td>5</td>\n",
       "      <td>91</td>\n",
       "      <td>0</td>\n",
       "      <td>25</td>\n",
       "      <td>Renta</td>\n",
       "      <td>Posgrado</td>\n",
       "    </tr>\n",
       "    <tr>\n",
       "      <th>9</th>\n",
       "      <td>MALO</td>\n",
       "      <td>NaN</td>\n",
       "      <td>4746</td>\n",
       "      <td>Alto</td>\n",
       "      <td>2</td>\n",
       "      <td>91</td>\n",
       "      <td>0</td>\n",
       "      <td>25</td>\n",
       "      <td>Propia</td>\n",
       "      <td>Licenciatura</td>\n",
       "    </tr>\n",
       "  </tbody>\n",
       "</table>\n",
       "</div>"
      ],
      "text/plain": [
       "  TIPO_CTE  MESES_VENCIDOS  INGRESO_INFERIDO NIVEL_RIESGO  \\\n",
       "0     MALO             NaN              4500         Alto   \n",
       "1     MALO             NaN              4780         Alto   \n",
       "2     MALO             NaN              4520         Alto   \n",
       "3     MALO             NaN              5000         Alto   \n",
       "4     MALO             NaN              4950         Alto   \n",
       "5     MALO             NaN              4780         Alto   \n",
       "6     MALO             NaN              5150         Alto   \n",
       "7     MALO             NaN              4725         Alto   \n",
       "8     MALO             NaN              5019         Alto   \n",
       "9     MALO             NaN              4746         Alto   \n",
       "\n",
       "   SOLICITUDES_RECHAZADAS  SCORE_CLIENTE  SCORE_COMPORTAMIENTO  EDAD  \\\n",
       "0                       5             89                     0    25   \n",
       "1                       4             89                     0    25   \n",
       "2                       5             89                     0    25   \n",
       "3                       4             89                     0    25   \n",
       "4                       4             89                     0    25   \n",
       "5                       3             90                     0    25   \n",
       "6                       3             90                     0    25   \n",
       "7                       1             90                     0    25   \n",
       "8                       5             91                     0    25   \n",
       "9                       2             91                     0    25   \n",
       "\n",
       "  TIPO_VIVIENDA   ESCOLARIDAD  \n",
       "0         Renta  Preparatoria  \n",
       "1    Familiares  Licenciatura  \n",
       "2    Familiares  Preparatoria  \n",
       "3         Renta      Posgrado  \n",
       "4         Renta  Licenciatura  \n",
       "5        Propia  Licenciatura  \n",
       "6    Familiares  Preparatoria  \n",
       "7    Familiares  Preparatoria  \n",
       "8         Renta      Posgrado  \n",
       "9        Propia  Licenciatura  "
      ]
     },
     "execution_count": 12,
     "metadata": {},
     "output_type": "execute_result"
    }
   ],
   "source": [
    "df_clean.head(10)"
   ]
  },
  {
   "cell_type": "markdown",
   "id": "9bd56338",
   "metadata": {},
   "source": [
    "<h3>Manejo de datos faltantes</h3>"
   ]
  },
  {
   "cell_type": "code",
   "execution_count": null,
   "id": "445562f3",
   "metadata": {},
   "outputs": [
    {
     "data": {
      "text/plain": [
       "<Axes: xlabel='SCORE_CLIENTE', ylabel='SCORE_COMPORTAMIENTO'>"
      ]
     },
     "execution_count": 7,
     "metadata": {},
     "output_type": "execute_result"
    },
    {
     "data": {
      "image/png": "[encoded data removed]",
      "text/plain": [
       "<Figure size 640x480 with 1 Axes>"
      ]
     },
     "metadata": {},
     "output_type": "display_data"
    }
   ],
   "source": [
    "df_scores = df_clean[['SCORE_CLIENTE', 'SCORE_COMPORTAMIENTO']]\n",
    "df_scores.plot(kind='scatter',\n",
    "               x='SCORE_CLIENTE',\n",
    "               y='SCORE_COMPORTAMIENTO',\n",
    "               grid=True)"
   ]
  }
 ],
 "metadata": {
  "kernelspec": {
   "display_name": "venv",
   "language": "python",
   "name": "python3"
  },
  "language_info": {
   "codemirror_mode": {
    "name": "ipython",
    "version": 3
   },
   "file_extension": ".py",
   "mimetype": "text/x-python",
   "name": "python",
   "nbconvert_exporter": "python",
   "pygments_lexer": "ipython3",
   "version": "3.12.2"
  }
 },
 "nbformat": 4,
 "nbformat_minor": 5
}
