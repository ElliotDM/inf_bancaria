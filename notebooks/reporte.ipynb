{
 "cells": [
  {
   "cell_type": "markdown",
   "id": "cd3ff779",
   "metadata": {},
   "source": [
    "<h1>Información bancaria</h1>\n",
    "<p>Durán Macedo Elliot </p>\n",
    "<p>López Gámez Luis Antonio</p>\n",
    "<p>Ritz Flora Carlos Alberto</p>"
   ]
  },
  {
   "cell_type": "markdown",
   "id": "288a13ea",
   "metadata": {},
   "source": [
    "<h2>Objetivo</h2>\n",
    "<p>Implementar un modelo predictivo que ayude al banco a evaluar el riesgo crediticio de manera más precisa en nuevas solicitudes. Esto permitirá clasificar a los solicitantes en segmentos de bajo, medio y alto riesgo crediticio, ayudando a los tomadores de decisiones a:</p>\n",
    "<ul>\n",
    "    <li>Minimizar las pérdidas por incumplimiento.</li>\n",
    "    <li>Optimizar la tasa de aprobación para clientes con buen perfil crediticio.</li>\n",
    "    <li>Mantener y mejorar la relación con clientes actuales y potenciales, adaptando las decisiones de crédito a su perfil específico.  </li>\n",
    "</ul>"
   ]
  },
  {
   "cell_type": "markdown",
   "id": "ecf90b8e",
   "metadata": {},
   "source": [
    "<h2>Problema de negocio</h2>\n",
    "<p>Un banco grande enfrenta el desafío constante de determinar con precisión el riesgo crediticio de nuevos solicitantes de crédito. La evaluación inexacta de este riesgo puede resultar en pérdidas financieras considerables debido a posibles incumplimientos de pago y, al mismo tiempo, puede generar desconfianza en la relación con clientes potenciales si los criterios son demasiado restrictivos. Es fundamental para el banco mejorar la precisión en la evaluación de estos riesgos con el fin de aprobar créditos a clientes solventes y rechazar aquellos con alta probabilidad de incumplimiento. </p>\n",
    "<p>Actualmente, la institución bancaria utiliza un conjunto de criterios estándar para aprobar o rechazar solicitudes de crédito. Sin embargo, estos criterios no siempre permiten identificar con precisión a los solicitantes con buen perfil crediticio, lo que conlleva a dos problemas principales: </p>\n",
    "<ol>\n",
    "    <li>Aprobación de clientes de alto riesgo: Al no identificar adecuadamente a los solicitantes con antecedentes o características de riesgo, el banco corre el peligro de aprobar créditos a personas con alta probabilidad de incumplimiento. </li>\n",
    "    <li>Rechazo de clientes solventes: La aplicación de filtros demasiado estrictos puede llevar a la pérdida de clientes con buena capacidad de pago, afectando la rentabilidad a largo plazo y la relación de confianza con el cliente.</li>\n",
    "</ol>"
   ]
  },
  {
   "cell_type": "markdown",
   "id": "77d5ff72",
   "metadata": {},
   "source": [
    "<h2>Variables importantes y su descripción</h2>\n",
    "<p>A partir de la información recabada en el DataMart, se decidió mantener las siguientes variables por su aporte en el proyecto:</p>\n",
    "<table border=\"2\" align=\"center\">\n",
    "    <tr>\n",
    "       <td><b>Variable</b></td>\n",
    "       <td><b>Descripción</b></td>\n",
    "    </tr>\n",
    "    <tr>\n",
    "        <td>TIPO_CTE</td>\n",
    "        <td>Clasificación preliminar del cliente según su perfil de riesgo o comportamiento pasado.</td>\n",
    "    </tr>\n",
    "    <tr>\n",
    "        <td>INGRESO_INFERIDO</td>\n",
    "        <td>Estimación del ingreso mensual del cliente.</td>\n",
    "    </tr>\n",
    "    <tr>\n",
    "        <td>NIVEL_RIESGO</td>\n",
    "        <td> Nivel de riesgo estimado para el cliente en función de su  historial crediticio y otras características.</td>\n",
    "    </tr>\n",
    "    <tr>\n",
    "        <td>SOLICITUDES_RECHAZADAS</td>\n",
    "        <td>Número de solicitudes rechazadas del cliente.</td>\n",
    "    </tr>\n",
    "    <tr>\n",
    "        <td>SCORE_CLIENTE</td>\n",
    "        <td>Puntuación general del cliente, calculada por el sistema de reglas de decisión del banco.</td>\n",
    "    </tr>\n",
    "    <tr>\n",
    "        <td>SCORE_COMPORTAMIENTO</td>\n",
    "        <td>Puntaje que evalúa el comportamiento de pago del cliente en  otros productos crediticios del banco.</td>\n",
    "    </tr>\n",
    "    <tr>\n",
    "        <td>EDAD</td>\n",
    "        <td>Edad del solicitante.</td>\n",
    "    </tr>\n",
    "    <tr>\n",
    "        <td>TIPO_VIVIENDA</td>\n",
    "        <td>Tipo de vivienda del solicitante.</td>\n",
    "    </tr>\n",
    "    <tr>\n",
    "        <td>ESCOLARIDAD</td>\n",
    "        <td>Edad del solicitante.</td>\n",
    "    </tr>\n",
    "</table>"
   ]
  },
  {
   "cell_type": "markdown",
   "id": "4c94e1e0",
   "metadata": {},
   "source": [
    "<h2>Análisis exploratorio de los datos (EDA)</h2>"
   ]
  },
  {
   "cell_type": "markdown",
   "id": "e0b3a842",
   "metadata": {},
   "source": [
    "<h3>Importar módulos requeridos</h3>"
   ]
  },
  {
   "cell_type": "code",
   "execution_count": 1,
   "id": "a0e97323",
   "metadata": {},
   "outputs": [],
   "source": [
    "import numpy as np\n",
    "import pandas as pd\n",
    "import matplotlib.pyplot as plt\n",
    "import seaborn as sns"
   ]
  },
  {
   "cell_type": "markdown",
   "id": "ad823123",
   "metadata": {},
   "source": [
    "<h3>Cargar el dataset</h3>"
   ]
  },
  {
   "cell_type": "code",
   "execution_count": 2,
   "id": "b1e83eb4",
   "metadata": {},
   "outputs": [],
   "source": [
    "from inf_bancaria.config import data_path"
   ]
  },
  {
   "cell_type": "code",
   "execution_count": 3,
   "id": "5154b4cf",
   "metadata": {},
   "outputs": [],
   "source": [
    "df = pd.read_csv(data_path)"
   ]
  },
  {
   "cell_type": "markdown",
   "id": "7de35199",
   "metadata": {},
   "source": [
    "<h3>Estructura básica del dataset</h3>"
   ]
  },
  {
   "cell_type": "code",
   "execution_count": 4,
   "id": "961770d3",
   "metadata": {},
   "outputs": [
    {
     "data": {
      "application/vnd.microsoft.datawrangler.viewer.v0+json": {
       "columns": [
        {
         "name": "index",
         "rawType": "int64",
         "type": "integer"
        },
        {
         "name": "NUM_SOLICITUD",
         "rawType": "float64",
         "type": "float"
        },
        {
         "name": "SUCURSAL",
         "rawType": "int64",
         "type": "integer"
        },
        {
         "name": "STATUS_SOLICITUD",
         "rawType": "object",
         "type": "string"
        },
        {
         "name": "PUNTO_DECISION",
         "rawType": "object",
         "type": "string"
        },
        {
         "name": "APROBACION_TC",
         "rawType": "object",
         "type": "string"
        },
        {
         "name": "TIPO_CTE",
         "rawType": "object",
         "type": "string"
        },
        {
         "name": "LINEA_CREDITO_FINAL",
         "rawType": "int64",
         "type": "integer"
        },
        {
         "name": "CUENTA_ASIGNADA",
         "rawType": "float64",
         "type": "float"
        },
        {
         "name": "MESES_VENCIDOS",
         "rawType": "float64",
         "type": "float"
        },
        {
         "name": "SALDO_CUENTA",
         "rawType": "object",
         "type": "unknown"
        },
        {
         "name": "CAPACIDAD_TC",
         "rawType": "object",
         "type": "unknown"
        },
        {
         "name": "INGRESO_INFERIDO",
         "rawType": "int64",
         "type": "integer"
        },
        {
         "name": "COMPROBANTE_INGRESOS",
         "rawType": "object",
         "type": "string"
        },
        {
         "name": "SEGMENTO_CLIENTE",
         "rawType": "object",
         "type": "unknown"
        },
        {
         "name": "CLIENTE_CDE",
         "rawType": "object",
         "type": "string"
        },
        {
         "name": "SUMA_LINEAS_REVOLVENTES",
         "rawType": "int64",
         "type": "integer"
        },
        {
         "name": "NIVEL_RIESGO",
         "rawType": "object",
         "type": "string"
        },
        {
         "name": "CAPACIDAD_PAGO_TOTAL",
         "rawType": "object",
         "type": "string"
        },
        {
         "name": "SOLICITUDES_RECHAZADAS",
         "rawType": "int64",
         "type": "integer"
        },
        {
         "name": "SCORE_CLIENTE",
         "rawType": "int64",
         "type": "integer"
        },
        {
         "name": "SCORE_COMPORTAMIENTO",
         "rawType": "int64",
         "type": "integer"
        },
        {
         "name": "PEOR_MOP_TARJETAS",
         "rawType": "int64",
         "type": "integer"
        },
        {
         "name": "SUMA_SALDOS_TARJETAS",
         "rawType": "int64",
         "type": "integer"
        },
        {
         "name": "SUMA_PAGO_MIN_TARJETAS",
         "rawType": "int64",
         "type": "integer"
        },
        {
         "name": "PEOR_HISTORIA_CREDITO",
         "rawType": "int64",
         "type": "integer"
        },
        {
         "name": "SUMA_SALDOS_TOTAL",
         "rawType": "int64",
         "type": "integer"
        },
        {
         "name": "NUM_CREDITOS",
         "rawType": "int64",
         "type": "integer"
        },
        {
         "name": "EDAD",
         "rawType": "int64",
         "type": "integer"
        },
        {
         "name": "TIPO_VIVIENDA",
         "rawType": "object",
         "type": "string"
        },
        {
         "name": "ESCOLARIDAD",
         "rawType": "object",
         "type": "string"
        }
       ],
       "ref": "b3f30ef8-9e2d-4fb3-bc19-1d896cf28635",
       "rows": [
        [
         "0",
         "2.01e+16",
         "4357",
         "Rechazada",
         "PS1",
         "Rechazado",
         "MALO",
         "0",
         null,
         null,
         null,
         null,
         "4500",
         "RECIBOS DE NOMINA",
         null,
         "NO_CLIENTE",
         "0",
         "Alto",
         "0%",
         "5",
         "89",
         "0",
         "0",
         "0",
         "0",
         "0",
         "0",
         "0",
         "25",
         "Renta",
         "Preparatoria"
        ],
        [
         "1",
         "2.01e+16",
         "164",
         "Rechazada",
         "PS1",
         "Rechazado",
         "MALO",
         "0",
         null,
         null,
         null,
         null,
         "4780",
         "RECIBOS DE NOMINA",
         null,
         "NO_CLIENTE",
         "0",
         "Alto",
         "0%",
         "4",
         "89",
         "0",
         "0",
         "0",
         "0",
         "0",
         "0",
         "0",
         "25",
         "Familiares",
         "Licenciatura"
        ],
        [
         "2",
         "2.01e+16",
         "306",
         "Rechazada",
         "PS1",
         "Rechazado",
         "MALO",
         "0",
         null,
         null,
         null,
         null,
         "4520",
         "RECIBOS DE NOMINA",
         null,
         "NO_CLIENTE",
         "0",
         "Alto",
         "0%",
         "5",
         "89",
         "0",
         "0",
         "0",
         "0",
         "0",
         "0",
         "0",
         "25",
         "Familiares",
         "Preparatoria"
        ],
        [
         "3",
         "2.01e+16",
         "951",
         "Rechazada",
         "PS1",
         "Rechazado",
         "MALO",
         "0",
         null,
         null,
         null,
         null,
         "5000",
         "RECIBOS DE NOMINA",
         null,
         "NO_CLIENTE",
         "0",
         "Alto",
         "0%",
         "4",
         "89",
         "0",
         "1",
         "1665",
         "450",
         "0",
         "0",
         "0",
         "25",
         "Renta",
         "Posgrado"
        ],
        [
         "4",
         "2.01e+16",
         "522",
         "Rechazada",
         "PS1",
         "Rechazado",
         "MALO",
         "0",
         null,
         null,
         null,
         null,
         "4950",
         "RECIBOS DE NOMINA",
         null,
         "NO_CLIENTE",
         "296000",
         "Alto",
         "0%",
         "4",
         "89",
         "0",
         "1",
         "30397",
         "1830",
         "0",
         "17050",
         "0",
         "25",
         "Renta",
         "Licenciatura"
        ],
        [
         "5",
         "2.01e+16",
         "4644",
         "Rechazada",
         "PS1",
         "Rechazado",
         "MALO",
         "0",
         null,
         null,
         null,
         null,
         "4780",
         "PROPIEDAD ACTIVO FIJO",
         null,
         "NO_CLIENTE",
         "28000",
         "Alto",
         "0%",
         "3",
         "90",
         "0",
         "0",
         "1193",
         "0",
         "0",
         "0",
         "0",
         "25",
         "Propia",
         "Licenciatura"
        ],
        [
         "6",
         "2.01e+16",
         "7796",
         "Rechazada",
         "PS1",
         "Rechazado",
         "MALO",
         "0",
         null,
         null,
         null,
         null,
         "5150",
         "RECIBOS DE NOMINA",
         null,
         "NO_CLIENTE",
         "0",
         "Alto",
         "0%",
         "3",
         "90",
         "0",
         "0",
         "0",
         "0",
         "0",
         "0",
         "0",
         "25",
         "Familiares",
         "Preparatoria"
        ],
        [
         "7",
         "2.01e+16",
         "10025",
         "Rechazada",
         "PS1",
         "Rechazado",
         "MALO",
         "0",
         null,
         null,
         null,
         null,
         "4725",
         "RECIBOS DE NOMINA",
         null,
         "NO_CLIENTE",
         "0",
         "Alto",
         "0%",
         "1",
         "90",
         "0",
         "0",
         "0",
         "0",
         "0",
         "0",
         "0",
         "25",
         "Familiares",
         "Preparatoria"
        ],
        [
         "8",
         "2.01e+16",
         "50012",
         "Cancelada",
         "PS1",
         "Rechazado",
         "MALO",
         "0",
         null,
         null,
         null,
         null,
         "5019",
         "SIN COMPROBANTE",
         null,
         "NO_CLIENTE",
         "0",
         "Alto",
         "0%",
         "5",
         "91",
         "0",
         "0",
         "0",
         "0",
         "0",
         "0",
         "0",
         "25",
         "Renta",
         "Posgrado"
        ],
        [
         "9",
         "2.01e+16",
         "165",
         "Rechazada",
         "PS1",
         "Rechazado",
         "MALO",
         "0",
         null,
         null,
         null,
         null,
         "4746",
         "PROPIEDAD ACTIVO FIJO",
         null,
         "NO_CLIENTE",
         "0",
         "Alto",
         "0%",
         "2",
         "91",
         "0",
         "0",
         "0",
         "0",
         "0",
         "0",
         "0",
         "25",
         "Propia",
         "Licenciatura"
        ]
       ],
       "shape": {
        "columns": 30,
        "rows": 10
       }
      },
      "text/html": [
       "<div>\n",
       "<style scoped>\n",
       "    .dataframe tbody tr th:only-of-type {\n",
       "        vertical-align: middle;\n",
       "    }\n",
       "\n",
       "    .dataframe tbody tr th {\n",
       "        vertical-align: top;\n",
       "    }\n",
       "\n",
       "    .dataframe thead th {\n",
       "        text-align: right;\n",
       "    }\n",
       "</style>\n",
       "<table border=\"1\" class=\"dataframe\">\n",
       "  <thead>\n",
       "    <tr style=\"text-align: right;\">\n",
       "      <th></th>\n",
       "      <th>NUM_SOLICITUD</th>\n",
       "      <th>SUCURSAL</th>\n",
       "      <th>STATUS_SOLICITUD</th>\n",
       "      <th>PUNTO_DECISION</th>\n",
       "      <th>APROBACION_TC</th>\n",
       "      <th>TIPO_CTE</th>\n",
       "      <th>LINEA_CREDITO_FINAL</th>\n",
       "      <th>CUENTA_ASIGNADA</th>\n",
       "      <th>MESES_VENCIDOS</th>\n",
       "      <th>SALDO_CUENTA</th>\n",
       "      <th>...</th>\n",
       "      <th>SCORE_COMPORTAMIENTO</th>\n",
       "      <th>PEOR_MOP_TARJETAS</th>\n",
       "      <th>SUMA_SALDOS_TARJETAS</th>\n",
       "      <th>SUMA_PAGO_MIN_TARJETAS</th>\n",
       "      <th>PEOR_HISTORIA_CREDITO</th>\n",
       "      <th>SUMA_SALDOS_TOTAL</th>\n",
       "      <th>NUM_CREDITOS</th>\n",
       "      <th>EDAD</th>\n",
       "      <th>TIPO_VIVIENDA</th>\n",
       "      <th>ESCOLARIDAD</th>\n",
       "    </tr>\n",
       "  </thead>\n",
       "  <tbody>\n",
       "    <tr>\n",
       "      <th>0</th>\n",
       "      <td>2.010000e+16</td>\n",
       "      <td>4357</td>\n",
       "      <td>Rechazada</td>\n",
       "      <td>PS1</td>\n",
       "      <td>Rechazado</td>\n",
       "      <td>MALO</td>\n",
       "      <td>0</td>\n",
       "      <td>NaN</td>\n",
       "      <td>NaN</td>\n",
       "      <td>NaN</td>\n",
       "      <td>...</td>\n",
       "      <td>0</td>\n",
       "      <td>0</td>\n",
       "      <td>0</td>\n",
       "      <td>0</td>\n",
       "      <td>0</td>\n",
       "      <td>0</td>\n",
       "      <td>0</td>\n",
       "      <td>25</td>\n",
       "      <td>Renta</td>\n",
       "      <td>Preparatoria</td>\n",
       "    </tr>\n",
       "    <tr>\n",
       "      <th>1</th>\n",
       "      <td>2.010000e+16</td>\n",
       "      <td>164</td>\n",
       "      <td>Rechazada</td>\n",
       "      <td>PS1</td>\n",
       "      <td>Rechazado</td>\n",
       "      <td>MALO</td>\n",
       "      <td>0</td>\n",
       "      <td>NaN</td>\n",
       "      <td>NaN</td>\n",
       "      <td>NaN</td>\n",
       "      <td>...</td>\n",
       "      <td>0</td>\n",
       "      <td>0</td>\n",
       "      <td>0</td>\n",
       "      <td>0</td>\n",
       "      <td>0</td>\n",
       "      <td>0</td>\n",
       "      <td>0</td>\n",
       "      <td>25</td>\n",
       "      <td>Familiares</td>\n",
       "      <td>Licenciatura</td>\n",
       "    </tr>\n",
       "    <tr>\n",
       "      <th>2</th>\n",
       "      <td>2.010000e+16</td>\n",
       "      <td>306</td>\n",
       "      <td>Rechazada</td>\n",
       "      <td>PS1</td>\n",
       "      <td>Rechazado</td>\n",
       "      <td>MALO</td>\n",
       "      <td>0</td>\n",
       "      <td>NaN</td>\n",
       "      <td>NaN</td>\n",
       "      <td>NaN</td>\n",
       "      <td>...</td>\n",
       "      <td>0</td>\n",
       "      <td>0</td>\n",
       "      <td>0</td>\n",
       "      <td>0</td>\n",
       "      <td>0</td>\n",
       "      <td>0</td>\n",
       "      <td>0</td>\n",
       "      <td>25</td>\n",
       "      <td>Familiares</td>\n",
       "      <td>Preparatoria</td>\n",
       "    </tr>\n",
       "    <tr>\n",
       "      <th>3</th>\n",
       "      <td>2.010000e+16</td>\n",
       "      <td>951</td>\n",
       "      <td>Rechazada</td>\n",
       "      <td>PS1</td>\n",
       "      <td>Rechazado</td>\n",
       "      <td>MALO</td>\n",
       "      <td>0</td>\n",
       "      <td>NaN</td>\n",
       "      <td>NaN</td>\n",
       "      <td>NaN</td>\n",
       "      <td>...</td>\n",
       "      <td>0</td>\n",
       "      <td>1</td>\n",
       "      <td>1665</td>\n",
       "      <td>450</td>\n",
       "      <td>0</td>\n",
       "      <td>0</td>\n",
       "      <td>0</td>\n",
       "      <td>25</td>\n",
       "      <td>Renta</td>\n",
       "      <td>Posgrado</td>\n",
       "    </tr>\n",
       "    <tr>\n",
       "      <th>4</th>\n",
       "      <td>2.010000e+16</td>\n",
       "      <td>522</td>\n",
       "      <td>Rechazada</td>\n",
       "      <td>PS1</td>\n",
       "      <td>Rechazado</td>\n",
       "      <td>MALO</td>\n",
       "      <td>0</td>\n",
       "      <td>NaN</td>\n",
       "      <td>NaN</td>\n",
       "      <td>NaN</td>\n",
       "      <td>...</td>\n",
       "      <td>0</td>\n",
       "      <td>1</td>\n",
       "      <td>30397</td>\n",
       "      <td>1830</td>\n",
       "      <td>0</td>\n",
       "      <td>17050</td>\n",
       "      <td>0</td>\n",
       "      <td>25</td>\n",
       "      <td>Renta</td>\n",
       "      <td>Licenciatura</td>\n",
       "    </tr>\n",
       "    <tr>\n",
       "      <th>5</th>\n",
       "      <td>2.010000e+16</td>\n",
       "      <td>4644</td>\n",
       "      <td>Rechazada</td>\n",
       "      <td>PS1</td>\n",
       "      <td>Rechazado</td>\n",
       "      <td>MALO</td>\n",
       "      <td>0</td>\n",
       "      <td>NaN</td>\n",
       "      <td>NaN</td>\n",
       "      <td>NaN</td>\n",
       "      <td>...</td>\n",
       "      <td>0</td>\n",
       "      <td>0</td>\n",
       "      <td>1193</td>\n",
       "      <td>0</td>\n",
       "      <td>0</td>\n",
       "      <td>0</td>\n",
       "      <td>0</td>\n",
       "      <td>25</td>\n",
       "      <td>Propia</td>\n",
       "      <td>Licenciatura</td>\n",
       "    </tr>\n",
       "    <tr>\n",
       "      <th>6</th>\n",
       "      <td>2.010000e+16</td>\n",
       "      <td>7796</td>\n",
       "      <td>Rechazada</td>\n",
       "      <td>PS1</td>\n",
       "      <td>Rechazado</td>\n",
       "      <td>MALO</td>\n",
       "      <td>0</td>\n",
       "      <td>NaN</td>\n",
       "      <td>NaN</td>\n",
       "      <td>NaN</td>\n",
       "      <td>...</td>\n",
       "      <td>0</td>\n",
       "      <td>0</td>\n",
       "      <td>0</td>\n",
       "      <td>0</td>\n",
       "      <td>0</td>\n",
       "      <td>0</td>\n",
       "      <td>0</td>\n",
       "      <td>25</td>\n",
       "      <td>Familiares</td>\n",
       "      <td>Preparatoria</td>\n",
       "    </tr>\n",
       "    <tr>\n",
       "      <th>7</th>\n",
       "      <td>2.010000e+16</td>\n",
       "      <td>10025</td>\n",
       "      <td>Rechazada</td>\n",
       "      <td>PS1</td>\n",
       "      <td>Rechazado</td>\n",
       "      <td>MALO</td>\n",
       "      <td>0</td>\n",
       "      <td>NaN</td>\n",
       "      <td>NaN</td>\n",
       "      <td>NaN</td>\n",
       "      <td>...</td>\n",
       "      <td>0</td>\n",
       "      <td>0</td>\n",
       "      <td>0</td>\n",
       "      <td>0</td>\n",
       "      <td>0</td>\n",
       "      <td>0</td>\n",
       "      <td>0</td>\n",
       "      <td>25</td>\n",
       "      <td>Familiares</td>\n",
       "      <td>Preparatoria</td>\n",
       "    </tr>\n",
       "    <tr>\n",
       "      <th>8</th>\n",
       "      <td>2.010000e+16</td>\n",
       "      <td>50012</td>\n",
       "      <td>Cancelada</td>\n",
       "      <td>PS1</td>\n",
       "      <td>Rechazado</td>\n",
       "      <td>MALO</td>\n",
       "      <td>0</td>\n",
       "      <td>NaN</td>\n",
       "      <td>NaN</td>\n",
       "      <td>NaN</td>\n",
       "      <td>...</td>\n",
       "      <td>0</td>\n",
       "      <td>0</td>\n",
       "      <td>0</td>\n",
       "      <td>0</td>\n",
       "      <td>0</td>\n",
       "      <td>0</td>\n",
       "      <td>0</td>\n",
       "      <td>25</td>\n",
       "      <td>Renta</td>\n",
       "      <td>Posgrado</td>\n",
       "    </tr>\n",
       "    <tr>\n",
       "      <th>9</th>\n",
       "      <td>2.010000e+16</td>\n",
       "      <td>165</td>\n",
       "      <td>Rechazada</td>\n",
       "      <td>PS1</td>\n",
       "      <td>Rechazado</td>\n",
       "      <td>MALO</td>\n",
       "      <td>0</td>\n",
       "      <td>NaN</td>\n",
       "      <td>NaN</td>\n",
       "      <td>NaN</td>\n",
       "      <td>...</td>\n",
       "      <td>0</td>\n",
       "      <td>0</td>\n",
       "      <td>0</td>\n",
       "      <td>0</td>\n",
       "      <td>0</td>\n",
       "      <td>0</td>\n",
       "      <td>0</td>\n",
       "      <td>25</td>\n",
       "      <td>Propia</td>\n",
       "      <td>Licenciatura</td>\n",
       "    </tr>\n",
       "  </tbody>\n",
       "</table>\n",
       "<p>10 rows × 30 columns</p>\n",
       "</div>"
      ],
      "text/plain": [
       "   NUM_SOLICITUD  SUCURSAL STATUS_SOLICITUD PUNTO_DECISION APROBACION_TC  \\\n",
       "0   2.010000e+16      4357        Rechazada            PS1     Rechazado   \n",
       "1   2.010000e+16       164        Rechazada            PS1     Rechazado   \n",
       "2   2.010000e+16       306        Rechazada            PS1     Rechazado   \n",
       "3   2.010000e+16       951        Rechazada            PS1     Rechazado   \n",
       "4   2.010000e+16       522        Rechazada            PS1     Rechazado   \n",
       "5   2.010000e+16      4644        Rechazada            PS1     Rechazado   \n",
       "6   2.010000e+16      7796        Rechazada            PS1     Rechazado   \n",
       "7   2.010000e+16     10025        Rechazada            PS1     Rechazado   \n",
       "8   2.010000e+16     50012        Cancelada            PS1     Rechazado   \n",
       "9   2.010000e+16       165        Rechazada            PS1     Rechazado   \n",
       "\n",
       "  TIPO_CTE  LINEA_CREDITO_FINAL  CUENTA_ASIGNADA  MESES_VENCIDOS SALDO_CUENTA  \\\n",
       "0     MALO                    0              NaN             NaN          NaN   \n",
       "1     MALO                    0              NaN             NaN          NaN   \n",
       "2     MALO                    0              NaN             NaN          NaN   \n",
       "3     MALO                    0              NaN             NaN          NaN   \n",
       "4     MALO                    0              NaN             NaN          NaN   \n",
       "5     MALO                    0              NaN             NaN          NaN   \n",
       "6     MALO                    0              NaN             NaN          NaN   \n",
       "7     MALO                    0              NaN             NaN          NaN   \n",
       "8     MALO                    0              NaN             NaN          NaN   \n",
       "9     MALO                    0              NaN             NaN          NaN   \n",
       "\n",
       "   ... SCORE_COMPORTAMIENTO  PEOR_MOP_TARJETAS SUMA_SALDOS_TARJETAS  \\\n",
       "0  ...                    0                  0                    0   \n",
       "1  ...                    0                  0                    0   \n",
       "2  ...                    0                  0                    0   \n",
       "3  ...                    0                  1                 1665   \n",
       "4  ...                    0                  1                30397   \n",
       "5  ...                    0                  0                 1193   \n",
       "6  ...                    0                  0                    0   \n",
       "7  ...                    0                  0                    0   \n",
       "8  ...                    0                  0                    0   \n",
       "9  ...                    0                  0                    0   \n",
       "\n",
       "  SUMA_PAGO_MIN_TARJETAS PEOR_HISTORIA_CREDITO  SUMA_SALDOS_TOTAL  \\\n",
       "0                      0                     0                  0   \n",
       "1                      0                     0                  0   \n",
       "2                      0                     0                  0   \n",
       "3                    450                     0                  0   \n",
       "4                   1830                     0              17050   \n",
       "5                      0                     0                  0   \n",
       "6                      0                     0                  0   \n",
       "7                      0                     0                  0   \n",
       "8                      0                     0                  0   \n",
       "9                      0                     0                  0   \n",
       "\n",
       "  NUM_CREDITOS EDAD  TIPO_VIVIENDA   ESCOLARIDAD  \n",
       "0            0   25          Renta  Preparatoria  \n",
       "1            0   25     Familiares  Licenciatura  \n",
       "2            0   25     Familiares  Preparatoria  \n",
       "3            0   25          Renta      Posgrado  \n",
       "4            0   25          Renta  Licenciatura  \n",
       "5            0   25         Propia  Licenciatura  \n",
       "6            0   25     Familiares  Preparatoria  \n",
       "7            0   25     Familiares  Preparatoria  \n",
       "8            0   25          Renta      Posgrado  \n",
       "9            0   25         Propia  Licenciatura  \n",
       "\n",
       "[10 rows x 30 columns]"
      ]
     },
     "execution_count": 4,
     "metadata": {},
     "output_type": "execute_result"
    }
   ],
   "source": [
    "df.head(10)"
   ]
  },
  {
   "cell_type": "code",
   "execution_count": 5,
   "id": "9ed4dad8",
   "metadata": {},
   "outputs": [
    {
     "data": {
      "text/plain": [
       "(4200, 30)"
      ]
     },
     "execution_count": 5,
     "metadata": {},
     "output_type": "execute_result"
    }
   ],
   "source": [
    "df.shape"
   ]
  },
  {
   "cell_type": "code",
   "execution_count": 6,
   "id": "e8caa744",
   "metadata": {},
   "outputs": [
    {
     "name": "stdout",
     "output_type": "stream",
     "text": [
      "<class 'pandas.core.frame.DataFrame'>\n",
      "RangeIndex: 4200 entries, 0 to 4199\n",
      "Data columns (total 30 columns):\n",
      " #   Column                   Non-Null Count  Dtype  \n",
      "---  ------                   --------------  -----  \n",
      " 0   NUM_SOLICITUD            4200 non-null   float64\n",
      " 1   SUCURSAL                 4200 non-null   int64  \n",
      " 2   STATUS_SOLICITUD         4200 non-null   object \n",
      " 3   PUNTO_DECISION           4200 non-null   object \n",
      " 4   APROBACION_TC            4200 non-null   object \n",
      " 5   TIPO_CTE                 4200 non-null   object \n",
      " 6   LINEA_CREDITO_FINAL      4200 non-null   int64  \n",
      " 7   CUENTA_ASIGNADA          1281 non-null   float64\n",
      " 8   MESES_VENCIDOS           1281 non-null   float64\n",
      " 9   SALDO_CUENTA             1281 non-null   object \n",
      " 10  CAPACIDAD_TC             1279 non-null   object \n",
      " 11  INGRESO_INFERIDO         4200 non-null   int64  \n",
      " 12  COMPROBANTE_INGRESOS     4200 non-null   object \n",
      " 13  SEGMENTO_CLIENTE         1369 non-null   object \n",
      " 14  CLIENTE_CDE              4200 non-null   object \n",
      " 15  SUMA_LINEAS_REVOLVENTES  4200 non-null   int64  \n",
      " 16  NIVEL_RIESGO             4200 non-null   object \n",
      " 17  CAPACIDAD_PAGO_TOTAL     4200 non-null   object \n",
      " 18  SOLICITUDES_RECHAZADAS   4200 non-null   int64  \n",
      " 19  SCORE_CLIENTE            4200 non-null   int64  \n",
      " 20  SCORE_COMPORTAMIENTO     4200 non-null   int64  \n",
      " 21  PEOR_MOP_TARJETAS        4200 non-null   int64  \n",
      " 22  SUMA_SALDOS_TARJETAS     4200 non-null   int64  \n",
      " 23  SUMA_PAGO_MIN_TARJETAS   4200 non-null   int64  \n",
      " 24  PEOR_HISTORIA_CREDITO    4200 non-null   int64  \n",
      " 25  SUMA_SALDOS_TOTAL        4200 non-null   int64  \n",
      " 26  NUM_CREDITOS             4200 non-null   int64  \n",
      " 27  EDAD                     4200 non-null   int64  \n",
      " 28  TIPO_VIVIENDA            4200 non-null   object \n",
      " 29  ESCOLARIDAD              4200 non-null   object \n",
      "dtypes: float64(3), int64(14), object(13)\n",
      "memory usage: 984.5+ KB\n"
     ]
    }
   ],
   "source": [
    "df.info()"
   ]
  },
  {
   "cell_type": "code",
   "execution_count": 7,
   "id": "134d9e07",
   "metadata": {},
   "outputs": [
    {
     "data": {
      "application/vnd.microsoft.datawrangler.viewer.v0+json": {
       "columns": [
        {
         "name": "index",
         "rawType": "object",
         "type": "string"
        },
        {
         "name": "0",
         "rawType": "int64",
         "type": "integer"
        }
       ],
       "ref": "22e77f8d-cf69-4269-8234-671426a8cd7d",
       "rows": [
        [
         "NUM_SOLICITUD",
         "1"
        ],
        [
         "SUCURSAL",
         "1387"
        ],
        [
         "STATUS_SOLICITUD",
         "5"
        ],
        [
         "PUNTO_DECISION",
         "2"
        ],
        [
         "APROBACION_TC",
         "3"
        ],
        [
         "TIPO_CTE",
         "3"
        ],
        [
         "LINEA_CREDITO_FINAL",
         "313"
        ],
        [
         "CUENTA_ASIGNADA",
         "1"
        ],
        [
         "MESES_VENCIDOS",
         "4"
        ],
        [
         "SALDO_CUENTA",
         "913"
        ],
        [
         "CAPACIDAD_TC",
         "107"
        ],
        [
         "INGRESO_INFERIDO",
         "4024"
        ],
        [
         "COMPROBANTE_INGRESOS",
         "8"
        ],
        [
         "SEGMENTO_CLIENTE",
         "7"
        ],
        [
         "CLIENTE_CDE",
         "2"
        ],
        [
         "SUMA_LINEAS_REVOLVENTES",
         "422"
        ],
        [
         "NIVEL_RIESGO",
         "4"
        ],
        [
         "CAPACIDAD_PAGO_TOTAL",
         "107"
        ],
        [
         "SOLICITUDES_RECHAZADAS",
         "6"
        ],
        [
         "SCORE_CLIENTE",
         "163"
        ],
        [
         "SCORE_COMPORTAMIENTO",
         "163"
        ],
        [
         "PEOR_MOP_TARJETAS",
         "9"
        ],
        [
         "SUMA_SALDOS_TARJETAS",
         "1048"
        ],
        [
         "SUMA_PAGO_MIN_TARJETAS",
         "288"
        ],
        [
         "PEOR_HISTORIA_CREDITO",
         "1"
        ],
        [
         "SUMA_SALDOS_TOTAL",
         "548"
        ],
        [
         "NUM_CREDITOS",
         "3"
        ],
        [
         "EDAD",
         "36"
        ],
        [
         "TIPO_VIVIENDA",
         "4"
        ],
        [
         "ESCOLARIDAD",
         "4"
        ]
       ],
       "shape": {
        "columns": 1,
        "rows": 30
       }
      },
      "text/plain": [
       "NUM_SOLICITUD                 1\n",
       "SUCURSAL                   1387\n",
       "STATUS_SOLICITUD              5\n",
       "PUNTO_DECISION                2\n",
       "APROBACION_TC                 3\n",
       "TIPO_CTE                      3\n",
       "LINEA_CREDITO_FINAL         313\n",
       "CUENTA_ASIGNADA               1\n",
       "MESES_VENCIDOS                4\n",
       "SALDO_CUENTA                913\n",
       "CAPACIDAD_TC                107\n",
       "INGRESO_INFERIDO           4024\n",
       "COMPROBANTE_INGRESOS          8\n",
       "SEGMENTO_CLIENTE              7\n",
       "CLIENTE_CDE                   2\n",
       "SUMA_LINEAS_REVOLVENTES     422\n",
       "NIVEL_RIESGO                  4\n",
       "CAPACIDAD_PAGO_TOTAL        107\n",
       "SOLICITUDES_RECHAZADAS        6\n",
       "SCORE_CLIENTE               163\n",
       "SCORE_COMPORTAMIENTO        163\n",
       "PEOR_MOP_TARJETAS             9\n",
       "SUMA_SALDOS_TARJETAS       1048\n",
       "SUMA_PAGO_MIN_TARJETAS      288\n",
       "PEOR_HISTORIA_CREDITO         1\n",
       "SUMA_SALDOS_TOTAL           548\n",
       "NUM_CREDITOS                  3\n",
       "EDAD                         36\n",
       "TIPO_VIVIENDA                 4\n",
       "ESCOLARIDAD                   4\n",
       "dtype: int64"
      ]
     },
     "execution_count": 7,
     "metadata": {},
     "output_type": "execute_result"
    }
   ],
   "source": [
    "df.nunique()"
   ]
  },
  {
   "cell_type": "markdown",
   "id": "f18b5ef9",
   "metadata": {},
   "source": [
    "<h3>Tipos de datos y datos faltantes</h3>"
   ]
  },
  {
   "cell_type": "code",
   "execution_count": 8,
   "id": "7d0361b6",
   "metadata": {},
   "outputs": [
    {
     "data": {
      "application/vnd.microsoft.datawrangler.viewer.v0+json": {
       "columns": [
        {
         "name": "index",
         "rawType": "object",
         "type": "string"
        },
        {
         "name": "0",
         "rawType": "object",
         "type": "unknown"
        }
       ],
       "ref": "1cc69864-6823-4813-8bf1-cb086a578321",
       "rows": [
        [
         "NUM_SOLICITUD",
         "float64"
        ],
        [
         "SUCURSAL",
         "int64"
        ],
        [
         "STATUS_SOLICITUD",
         "object"
        ],
        [
         "PUNTO_DECISION",
         "object"
        ],
        [
         "APROBACION_TC",
         "object"
        ],
        [
         "TIPO_CTE",
         "object"
        ],
        [
         "LINEA_CREDITO_FINAL",
         "int64"
        ],
        [
         "CUENTA_ASIGNADA",
         "float64"
        ],
        [
         "MESES_VENCIDOS",
         "float64"
        ],
        [
         "SALDO_CUENTA",
         "object"
        ],
        [
         "CAPACIDAD_TC",
         "object"
        ],
        [
         "INGRESO_INFERIDO",
         "int64"
        ],
        [
         "COMPROBANTE_INGRESOS",
         "object"
        ],
        [
         "SEGMENTO_CLIENTE",
         "object"
        ],
        [
         "CLIENTE_CDE",
         "object"
        ],
        [
         "SUMA_LINEAS_REVOLVENTES",
         "int64"
        ],
        [
         "NIVEL_RIESGO",
         "object"
        ],
        [
         "CAPACIDAD_PAGO_TOTAL",
         "object"
        ],
        [
         "SOLICITUDES_RECHAZADAS",
         "int64"
        ],
        [
         "SCORE_CLIENTE",
         "int64"
        ],
        [
         "SCORE_COMPORTAMIENTO",
         "int64"
        ],
        [
         "PEOR_MOP_TARJETAS",
         "int64"
        ],
        [
         "SUMA_SALDOS_TARJETAS",
         "int64"
        ],
        [
         "SUMA_PAGO_MIN_TARJETAS",
         "int64"
        ],
        [
         "PEOR_HISTORIA_CREDITO",
         "int64"
        ],
        [
         "SUMA_SALDOS_TOTAL",
         "int64"
        ],
        [
         "NUM_CREDITOS",
         "int64"
        ],
        [
         "EDAD",
         "int64"
        ],
        [
         "TIPO_VIVIENDA",
         "object"
        ],
        [
         "ESCOLARIDAD",
         "object"
        ]
       ],
       "shape": {
        "columns": 1,
        "rows": 30
       }
      },
      "text/plain": [
       "NUM_SOLICITUD              float64\n",
       "SUCURSAL                     int64\n",
       "STATUS_SOLICITUD            object\n",
       "PUNTO_DECISION              object\n",
       "APROBACION_TC               object\n",
       "TIPO_CTE                    object\n",
       "LINEA_CREDITO_FINAL          int64\n",
       "CUENTA_ASIGNADA            float64\n",
       "MESES_VENCIDOS             float64\n",
       "SALDO_CUENTA                object\n",
       "CAPACIDAD_TC                object\n",
       "INGRESO_INFERIDO             int64\n",
       "COMPROBANTE_INGRESOS        object\n",
       "SEGMENTO_CLIENTE            object\n",
       "CLIENTE_CDE                 object\n",
       "SUMA_LINEAS_REVOLVENTES      int64\n",
       "NIVEL_RIESGO                object\n",
       "CAPACIDAD_PAGO_TOTAL        object\n",
       "SOLICITUDES_RECHAZADAS       int64\n",
       "SCORE_CLIENTE                int64\n",
       "SCORE_COMPORTAMIENTO         int64\n",
       "PEOR_MOP_TARJETAS            int64\n",
       "SUMA_SALDOS_TARJETAS         int64\n",
       "SUMA_PAGO_MIN_TARJETAS       int64\n",
       "PEOR_HISTORIA_CREDITO        int64\n",
       "SUMA_SALDOS_TOTAL            int64\n",
       "NUM_CREDITOS                 int64\n",
       "EDAD                         int64\n",
       "TIPO_VIVIENDA               object\n",
       "ESCOLARIDAD                 object\n",
       "dtype: object"
      ]
     },
     "execution_count": 8,
     "metadata": {},
     "output_type": "execute_result"
    }
   ],
   "source": [
    "df.dtypes"
   ]
  },
  {
   "cell_type": "code",
   "execution_count": 9,
   "id": "37b0da46",
   "metadata": {},
   "outputs": [
    {
     "data": {
      "application/vnd.microsoft.datawrangler.viewer.v0+json": {
       "columns": [
        {
         "name": "index",
         "rawType": "object",
         "type": "string"
        },
        {
         "name": "0",
         "rawType": "int64",
         "type": "integer"
        }
       ],
       "ref": "9c1ec089-e29f-47b4-bc4f-0ad071fed74a",
       "rows": [
        [
         "NUM_SOLICITUD",
         "0"
        ],
        [
         "SUCURSAL",
         "0"
        ],
        [
         "STATUS_SOLICITUD",
         "0"
        ],
        [
         "PUNTO_DECISION",
         "0"
        ],
        [
         "APROBACION_TC",
         "0"
        ],
        [
         "TIPO_CTE",
         "0"
        ],
        [
         "LINEA_CREDITO_FINAL",
         "0"
        ],
        [
         "CUENTA_ASIGNADA",
         "2919"
        ],
        [
         "MESES_VENCIDOS",
         "2919"
        ],
        [
         "SALDO_CUENTA",
         "2919"
        ],
        [
         "CAPACIDAD_TC",
         "2921"
        ],
        [
         "INGRESO_INFERIDO",
         "0"
        ],
        [
         "COMPROBANTE_INGRESOS",
         "0"
        ],
        [
         "SEGMENTO_CLIENTE",
         "2831"
        ],
        [
         "CLIENTE_CDE",
         "0"
        ],
        [
         "SUMA_LINEAS_REVOLVENTES",
         "0"
        ],
        [
         "NIVEL_RIESGO",
         "0"
        ],
        [
         "CAPACIDAD_PAGO_TOTAL",
         "0"
        ],
        [
         "SOLICITUDES_RECHAZADAS",
         "0"
        ],
        [
         "SCORE_CLIENTE",
         "0"
        ],
        [
         "SCORE_COMPORTAMIENTO",
         "0"
        ],
        [
         "PEOR_MOP_TARJETAS",
         "0"
        ],
        [
         "SUMA_SALDOS_TARJETAS",
         "0"
        ],
        [
         "SUMA_PAGO_MIN_TARJETAS",
         "0"
        ],
        [
         "PEOR_HISTORIA_CREDITO",
         "0"
        ],
        [
         "SUMA_SALDOS_TOTAL",
         "0"
        ],
        [
         "NUM_CREDITOS",
         "0"
        ],
        [
         "EDAD",
         "0"
        ],
        [
         "TIPO_VIVIENDA",
         "0"
        ],
        [
         "ESCOLARIDAD",
         "0"
        ]
       ],
       "shape": {
        "columns": 1,
        "rows": 30
       }
      },
      "text/plain": [
       "NUM_SOLICITUD                 0\n",
       "SUCURSAL                      0\n",
       "STATUS_SOLICITUD              0\n",
       "PUNTO_DECISION                0\n",
       "APROBACION_TC                 0\n",
       "TIPO_CTE                      0\n",
       "LINEA_CREDITO_FINAL           0\n",
       "CUENTA_ASIGNADA            2919\n",
       "MESES_VENCIDOS             2919\n",
       "SALDO_CUENTA               2919\n",
       "CAPACIDAD_TC               2921\n",
       "INGRESO_INFERIDO              0\n",
       "COMPROBANTE_INGRESOS          0\n",
       "SEGMENTO_CLIENTE           2831\n",
       "CLIENTE_CDE                   0\n",
       "SUMA_LINEAS_REVOLVENTES       0\n",
       "NIVEL_RIESGO                  0\n",
       "CAPACIDAD_PAGO_TOTAL          0\n",
       "SOLICITUDES_RECHAZADAS        0\n",
       "SCORE_CLIENTE                 0\n",
       "SCORE_COMPORTAMIENTO          0\n",
       "PEOR_MOP_TARJETAS             0\n",
       "SUMA_SALDOS_TARJETAS          0\n",
       "SUMA_PAGO_MIN_TARJETAS        0\n",
       "PEOR_HISTORIA_CREDITO         0\n",
       "SUMA_SALDOS_TOTAL             0\n",
       "NUM_CREDITOS                  0\n",
       "EDAD                          0\n",
       "TIPO_VIVIENDA                 0\n",
       "ESCOLARIDAD                   0\n",
       "dtype: int64"
      ]
     },
     "execution_count": 9,
     "metadata": {},
     "output_type": "execute_result"
    }
   ],
   "source": [
    "df.isnull().sum()"
   ]
  },
  {
   "cell_type": "markdown",
   "id": "cdf723b2",
   "metadata": {},
   "source": [
    "<h2>Tratamiento de los datos</h2>"
   ]
  },
  {
   "cell_type": "markdown",
   "id": "d625f3dd",
   "metadata": {},
   "source": [
    "<h3>Eliminar variables innecesarias</h3>"
   ]
  },
  {
   "cell_type": "code",
   "execution_count": 10,
   "id": "05fb9cf6",
   "metadata": {},
   "outputs": [],
   "source": [
    "from inf_bancaria.clean_data import remove_variables"
   ]
  },
  {
   "cell_type": "code",
   "execution_count": 11,
   "id": "55f6d16d",
   "metadata": {},
   "outputs": [],
   "source": [
    "df_clean = remove_variables(df)"
   ]
  },
  {
   "cell_type": "code",
   "execution_count": 12,
   "id": "6d07cb06",
   "metadata": {},
   "outputs": [
    {
     "data": {
      "application/vnd.microsoft.datawrangler.viewer.v0+json": {
       "columns": [
        {
         "name": "index",
         "rawType": "int64",
         "type": "integer"
        },
        {
         "name": "TIPO_CTE",
         "rawType": "object",
         "type": "string"
        },
        {
         "name": "INGRESO_INFERIDO",
         "rawType": "int64",
         "type": "integer"
        },
        {
         "name": "NIVEL_RIESGO",
         "rawType": "object",
         "type": "string"
        },
        {
         "name": "SOLICITUDES_RECHAZADAS",
         "rawType": "int64",
         "type": "integer"
        },
        {
         "name": "SCORE_CLIENTE",
         "rawType": "int64",
         "type": "integer"
        },
        {
         "name": "SCORE_COMPORTAMIENTO",
         "rawType": "int64",
         "type": "integer"
        },
        {
         "name": "EDAD",
         "rawType": "int64",
         "type": "integer"
        },
        {
         "name": "TIPO_VIVIENDA",
         "rawType": "object",
         "type": "string"
        },
        {
         "name": "ESCOLARIDAD",
         "rawType": "object",
         "type": "string"
        }
       ],
       "ref": "7f76cbad-5330-40d2-8a96-2def99be62be",
       "rows": [
        [
         "0",
         "MALO",
         "4500",
         "Alto",
         "5",
         "89",
         "0",
         "25",
         "Renta",
         "Preparatoria"
        ],
        [
         "1",
         "MALO",
         "4780",
         "Alto",
         "4",
         "89",
         "0",
         "25",
         "Familiares",
         "Licenciatura"
        ],
        [
         "2",
         "MALO",
         "4520",
         "Alto",
         "5",
         "89",
         "0",
         "25",
         "Familiares",
         "Preparatoria"
        ],
        [
         "3",
         "MALO",
         "5000",
         "Alto",
         "4",
         "89",
         "0",
         "25",
         "Renta",
         "Posgrado"
        ],
        [
         "4",
         "MALO",
         "4950",
         "Alto",
         "4",
         "89",
         "0",
         "25",
         "Renta",
         "Licenciatura"
        ],
        [
         "5",
         "MALO",
         "4780",
         "Alto",
         "3",
         "90",
         "0",
         "25",
         "Propia",
         "Licenciatura"
        ],
        [
         "6",
         "MALO",
         "5150",
         "Alto",
         "3",
         "90",
         "0",
         "25",
         "Familiares",
         "Preparatoria"
        ],
        [
         "7",
         "MALO",
         "4725",
         "Alto",
         "1",
         "90",
         "0",
         "25",
         "Familiares",
         "Preparatoria"
        ],
        [
         "8",
         "MALO",
         "5019",
         "Alto",
         "5",
         "91",
         "0",
         "25",
         "Renta",
         "Posgrado"
        ],
        [
         "9",
         "MALO",
         "4746",
         "Alto",
         "2",
         "91",
         "0",
         "25",
         "Propia",
         "Licenciatura"
        ]
       ],
       "shape": {
        "columns": 9,
        "rows": 10
       }
      },
      "text/html": [
       "<div>\n",
       "<style scoped>\n",
       "    .dataframe tbody tr th:only-of-type {\n",
       "        vertical-align: middle;\n",
       "    }\n",
       "\n",
       "    .dataframe tbody tr th {\n",
       "        vertical-align: top;\n",
       "    }\n",
       "\n",
       "    .dataframe thead th {\n",
       "        text-align: right;\n",
       "    }\n",
       "</style>\n",
       "<table border=\"1\" class=\"dataframe\">\n",
       "  <thead>\n",
       "    <tr style=\"text-align: right;\">\n",
       "      <th></th>\n",
       "      <th>TIPO_CTE</th>\n",
       "      <th>INGRESO_INFERIDO</th>\n",
       "      <th>NIVEL_RIESGO</th>\n",
       "      <th>SOLICITUDES_RECHAZADAS</th>\n",
       "      <th>SCORE_CLIENTE</th>\n",
       "      <th>SCORE_COMPORTAMIENTO</th>\n",
       "      <th>EDAD</th>\n",
       "      <th>TIPO_VIVIENDA</th>\n",
       "      <th>ESCOLARIDAD</th>\n",
       "    </tr>\n",
       "  </thead>\n",
       "  <tbody>\n",
       "    <tr>\n",
       "      <th>0</th>\n",
       "      <td>MALO</td>\n",
       "      <td>4500</td>\n",
       "      <td>Alto</td>\n",
       "      <td>5</td>\n",
       "      <td>89</td>\n",
       "      <td>0</td>\n",
       "      <td>25</td>\n",
       "      <td>Renta</td>\n",
       "      <td>Preparatoria</td>\n",
       "    </tr>\n",
       "    <tr>\n",
       "      <th>1</th>\n",
       "      <td>MALO</td>\n",
       "      <td>4780</td>\n",
       "      <td>Alto</td>\n",
       "      <td>4</td>\n",
       "      <td>89</td>\n",
       "      <td>0</td>\n",
       "      <td>25</td>\n",
       "      <td>Familiares</td>\n",
       "      <td>Licenciatura</td>\n",
       "    </tr>\n",
       "    <tr>\n",
       "      <th>2</th>\n",
       "      <td>MALO</td>\n",
       "      <td>4520</td>\n",
       "      <td>Alto</td>\n",
       "      <td>5</td>\n",
       "      <td>89</td>\n",
       "      <td>0</td>\n",
       "      <td>25</td>\n",
       "      <td>Familiares</td>\n",
       "      <td>Preparatoria</td>\n",
       "    </tr>\n",
       "    <tr>\n",
       "      <th>3</th>\n",
       "      <td>MALO</td>\n",
       "      <td>5000</td>\n",
       "      <td>Alto</td>\n",
       "      <td>4</td>\n",
       "      <td>89</td>\n",
       "      <td>0</td>\n",
       "      <td>25</td>\n",
       "      <td>Renta</td>\n",
       "      <td>Posgrado</td>\n",
       "    </tr>\n",
       "    <tr>\n",
       "      <th>4</th>\n",
       "      <td>MALO</td>\n",
       "      <td>4950</td>\n",
       "      <td>Alto</td>\n",
       "      <td>4</td>\n",
       "      <td>89</td>\n",
       "      <td>0</td>\n",
       "      <td>25</td>\n",
       "      <td>Renta</td>\n",
       "      <td>Licenciatura</td>\n",
       "    </tr>\n",
       "    <tr>\n",
       "      <th>5</th>\n",
       "      <td>MALO</td>\n",
       "      <td>4780</td>\n",
       "      <td>Alto</td>\n",
       "      <td>3</td>\n",
       "      <td>90</td>\n",
       "      <td>0</td>\n",
       "      <td>25</td>\n",
       "      <td>Propia</td>\n",
       "      <td>Licenciatura</td>\n",
       "    </tr>\n",
       "    <tr>\n",
       "      <th>6</th>\n",
       "      <td>MALO</td>\n",
       "      <td>5150</td>\n",
       "      <td>Alto</td>\n",
       "      <td>3</td>\n",
       "      <td>90</td>\n",
       "      <td>0</td>\n",
       "      <td>25</td>\n",
       "      <td>Familiares</td>\n",
       "      <td>Preparatoria</td>\n",
       "    </tr>\n",
       "    <tr>\n",
       "      <th>7</th>\n",
       "      <td>MALO</td>\n",
       "      <td>4725</td>\n",
       "      <td>Alto</td>\n",
       "      <td>1</td>\n",
       "      <td>90</td>\n",
       "      <td>0</td>\n",
       "      <td>25</td>\n",
       "      <td>Familiares</td>\n",
       "      <td>Preparatoria</td>\n",
       "    </tr>\n",
       "    <tr>\n",
       "      <th>8</th>\n",
       "      <td>MALO</td>\n",
       "      <td>5019</td>\n",
       "      <td>Alto</td>\n",
       "      <td>5</td>\n",
       "      <td>91</td>\n",
       "      <td>0</td>\n",
       "      <td>25</td>\n",
       "      <td>Renta</td>\n",
       "      <td>Posgrado</td>\n",
       "    </tr>\n",
       "    <tr>\n",
       "      <th>9</th>\n",
       "      <td>MALO</td>\n",
       "      <td>4746</td>\n",
       "      <td>Alto</td>\n",
       "      <td>2</td>\n",
       "      <td>91</td>\n",
       "      <td>0</td>\n",
       "      <td>25</td>\n",
       "      <td>Propia</td>\n",
       "      <td>Licenciatura</td>\n",
       "    </tr>\n",
       "  </tbody>\n",
       "</table>\n",
       "</div>"
      ],
      "text/plain": [
       "  TIPO_CTE  INGRESO_INFERIDO NIVEL_RIESGO  SOLICITUDES_RECHAZADAS  \\\n",
       "0     MALO              4500         Alto                       5   \n",
       "1     MALO              4780         Alto                       4   \n",
       "2     MALO              4520         Alto                       5   \n",
       "3     MALO              5000         Alto                       4   \n",
       "4     MALO              4950         Alto                       4   \n",
       "5     MALO              4780         Alto                       3   \n",
       "6     MALO              5150         Alto                       3   \n",
       "7     MALO              4725         Alto                       1   \n",
       "8     MALO              5019         Alto                       5   \n",
       "9     MALO              4746         Alto                       2   \n",
       "\n",
       "   SCORE_CLIENTE  SCORE_COMPORTAMIENTO  EDAD TIPO_VIVIENDA   ESCOLARIDAD  \n",
       "0             89                     0    25         Renta  Preparatoria  \n",
       "1             89                     0    25    Familiares  Licenciatura  \n",
       "2             89                     0    25    Familiares  Preparatoria  \n",
       "3             89                     0    25         Renta      Posgrado  \n",
       "4             89                     0    25         Renta  Licenciatura  \n",
       "5             90                     0    25        Propia  Licenciatura  \n",
       "6             90                     0    25    Familiares  Preparatoria  \n",
       "7             90                     0    25    Familiares  Preparatoria  \n",
       "8             91                     0    25         Renta      Posgrado  \n",
       "9             91                     0    25        Propia  Licenciatura  "
      ]
     },
     "execution_count": 12,
     "metadata": {},
     "output_type": "execute_result"
    }
   ],
   "source": [
    "df_clean.head(10)"
   ]
  },
  {
   "cell_type": "markdown",
   "id": "f35ae4d2",
   "metadata": {},
   "source": [
    "<h3>Manejo de valores atípicos (outliers)</h3>"
   ]
  },
  {
   "cell_type": "code",
   "execution_count": 13,
   "id": "5a882d3d",
   "metadata": {},
   "outputs": [
    {
     "data": {
      "application/vnd.microsoft.datawrangler.viewer.v0+json": {
       "columns": [
        {
         "name": "index",
         "rawType": "object",
         "type": "string"
        },
        {
         "name": "INGRESO_INFERIDO",
         "rawType": "float64",
         "type": "float"
        },
        {
         "name": "SOLICITUDES_RECHAZADAS",
         "rawType": "float64",
         "type": "float"
        },
        {
         "name": "SCORE_CLIENTE",
         "rawType": "float64",
         "type": "float"
        },
        {
         "name": "SCORE_COMPORTAMIENTO",
         "rawType": "float64",
         "type": "float"
        },
        {
         "name": "EDAD",
         "rawType": "float64",
         "type": "float"
        }
       ],
       "ref": "2c8d0b20-a52a-4aa9-8d95-fc785a70415c",
       "rows": [
        [
         "count",
         "4200.0",
         "4200.0",
         "4200.0",
         "4200.0",
         "4200.0"
        ],
        [
         "mean",
         "43081.39357142857",
         "2.026904761904762",
         "136.22333333333333",
         "223.94190476190477",
         "42.6152380952381"
        ],
        [
         "std",
         "25502.797773039383",
         "1.7988882652042049",
         "60.29229926877349",
         "338.78735102251255",
         "10.330893937850176"
        ],
        [
         "min",
         "4500.0",
         "0.0",
         "89.0",
         "0.0",
         "25.0"
        ],
        [
         "25%",
         "21783.75",
         "0.0",
         "94.0",
         "0.0",
         "34.0"
        ],
        [
         "50%",
         "35906.5",
         "2.0",
         "99.0",
         "0.0",
         "43.0"
        ],
        [
         "75%",
         "60109.0",
         "4.0",
         "205.0",
         "706.0",
         "52.0"
        ],
        [
         "max",
         "119261.0",
         "5.0",
         "297.0",
         "805.0",
         "60.0"
        ]
       ],
       "shape": {
        "columns": 5,
        "rows": 8
       }
      },
      "text/html": [
       "<div>\n",
       "<style scoped>\n",
       "    .dataframe tbody tr th:only-of-type {\n",
       "        vertical-align: middle;\n",
       "    }\n",
       "\n",
       "    .dataframe tbody tr th {\n",
       "        vertical-align: top;\n",
       "    }\n",
       "\n",
       "    .dataframe thead th {\n",
       "        text-align: right;\n",
       "    }\n",
       "</style>\n",
       "<table border=\"1\" class=\"dataframe\">\n",
       "  <thead>\n",
       "    <tr style=\"text-align: right;\">\n",
       "      <th></th>\n",
       "      <th>INGRESO_INFERIDO</th>\n",
       "      <th>SOLICITUDES_RECHAZADAS</th>\n",
       "      <th>SCORE_CLIENTE</th>\n",
       "      <th>SCORE_COMPORTAMIENTO</th>\n",
       "      <th>EDAD</th>\n",
       "    </tr>\n",
       "  </thead>\n",
       "  <tbody>\n",
       "    <tr>\n",
       "      <th>count</th>\n",
       "      <td>4200.000000</td>\n",
       "      <td>4200.000000</td>\n",
       "      <td>4200.000000</td>\n",
       "      <td>4200.000000</td>\n",
       "      <td>4200.000000</td>\n",
       "    </tr>\n",
       "    <tr>\n",
       "      <th>mean</th>\n",
       "      <td>43081.393571</td>\n",
       "      <td>2.026905</td>\n",
       "      <td>136.223333</td>\n",
       "      <td>223.941905</td>\n",
       "      <td>42.615238</td>\n",
       "    </tr>\n",
       "    <tr>\n",
       "      <th>std</th>\n",
       "      <td>25502.797773</td>\n",
       "      <td>1.798888</td>\n",
       "      <td>60.292299</td>\n",
       "      <td>338.787351</td>\n",
       "      <td>10.330894</td>\n",
       "    </tr>\n",
       "    <tr>\n",
       "      <th>min</th>\n",
       "      <td>4500.000000</td>\n",
       "      <td>0.000000</td>\n",
       "      <td>89.000000</td>\n",
       "      <td>0.000000</td>\n",
       "      <td>25.000000</td>\n",
       "    </tr>\n",
       "    <tr>\n",
       "      <th>25%</th>\n",
       "      <td>21783.750000</td>\n",
       "      <td>0.000000</td>\n",
       "      <td>94.000000</td>\n",
       "      <td>0.000000</td>\n",
       "      <td>34.000000</td>\n",
       "    </tr>\n",
       "    <tr>\n",
       "      <th>50%</th>\n",
       "      <td>35906.500000</td>\n",
       "      <td>2.000000</td>\n",
       "      <td>99.000000</td>\n",
       "      <td>0.000000</td>\n",
       "      <td>43.000000</td>\n",
       "    </tr>\n",
       "    <tr>\n",
       "      <th>75%</th>\n",
       "      <td>60109.000000</td>\n",
       "      <td>4.000000</td>\n",
       "      <td>205.000000</td>\n",
       "      <td>706.000000</td>\n",
       "      <td>52.000000</td>\n",
       "    </tr>\n",
       "    <tr>\n",
       "      <th>max</th>\n",
       "      <td>119261.000000</td>\n",
       "      <td>5.000000</td>\n",
       "      <td>297.000000</td>\n",
       "      <td>805.000000</td>\n",
       "      <td>60.000000</td>\n",
       "    </tr>\n",
       "  </tbody>\n",
       "</table>\n",
       "</div>"
      ],
      "text/plain": [
       "       INGRESO_INFERIDO  SOLICITUDES_RECHAZADAS  SCORE_CLIENTE  \\\n",
       "count       4200.000000             4200.000000    4200.000000   \n",
       "mean       43081.393571                2.026905     136.223333   \n",
       "std        25502.797773                1.798888      60.292299   \n",
       "min         4500.000000                0.000000      89.000000   \n",
       "25%        21783.750000                0.000000      94.000000   \n",
       "50%        35906.500000                2.000000      99.000000   \n",
       "75%        60109.000000                4.000000     205.000000   \n",
       "max       119261.000000                5.000000     297.000000   \n",
       "\n",
       "       SCORE_COMPORTAMIENTO         EDAD  \n",
       "count           4200.000000  4200.000000  \n",
       "mean             223.941905    42.615238  \n",
       "std              338.787351    10.330894  \n",
       "min                0.000000    25.000000  \n",
       "25%                0.000000    34.000000  \n",
       "50%                0.000000    43.000000  \n",
       "75%              706.000000    52.000000  \n",
       "max              805.000000    60.000000  "
      ]
     },
     "execution_count": 13,
     "metadata": {},
     "output_type": "execute_result"
    }
   ],
   "source": [
    "df_clean.describe()"
   ]
  },
  {
   "cell_type": "code",
   "execution_count": 14,
   "id": "efa42ae5",
   "metadata": {},
   "outputs": [],
   "source": [
    "sns.set_theme(style=\"whitegrid\")\n",
    "plt.rcParams[\"figure.figsize\"] = (12, 6)"
   ]
  },
  {
   "cell_type": "code",
   "execution_count": 15,
   "id": "cfc0f751",
   "metadata": {},
   "outputs": [
    {
     "data": {
      "text/plain": [
       "<Axes: >"
      ]
     },
     "execution_count": 15,
     "metadata": {},
     "output_type": "execute_result"
    },
    {
     "data": {
      "image/png": "[encoded data removed]",
      "text/plain": [
       "<Figure size 1200x600 with 1 Axes>"
      ]
     },
     "metadata": {},
     "output_type": "display_data"
    }
   ],
   "source": [
    "sns.boxplot(data=df_clean[[\"INGRESO_INFERIDO\",\n",
    "                           \"SOLICITUDES_RECHAZADAS\",\n",
    "                           \"SCORE_CLIENTE\", \n",
    "                           \"SCORE_COMPORTAMIENTO\"]])"
   ]
  },
  {
   "cell_type": "code",
   "execution_count": 16,
   "id": "19fca0ac",
   "metadata": {},
   "outputs": [],
   "source": [
    "q_low = df_clean[\"INGRESO_INFERIDO\"].quantile(0.01)\n",
    "q_high = df_clean[\"INGRESO_INFERIDO\"].quantile(0.99)\n",
    "df_clean = df_clean[(df_clean[\"INGRESO_INFERIDO\"] < q_high)&(df_clean[\"INGRESO_INFERIDO\"] > q_low)]"
   ]
  },
  {
   "cell_type": "code",
   "execution_count": 17,
   "id": "96ec2faa",
   "metadata": {},
   "outputs": [
    {
     "data": {
      "text/plain": [
       "<Axes: >"
      ]
     },
     "execution_count": 17,
     "metadata": {},
     "output_type": "execute_result"
    },
    {
     "data": {
      "image/png": "[encoded data removed]",
      "text/plain": [
       "<Figure size 1200x600 with 1 Axes>"
      ]
     },
     "metadata": {},
     "output_type": "display_data"
    }
   ],
   "source": [
    "sns.boxplot(data=df_clean[[\"INGRESO_INFERIDO\",\n",
    "                           \"SOLICITUDES_RECHAZADAS\",\n",
    "                           \"SCORE_CLIENTE\", \n",
    "                           \"SCORE_COMPORTAMIENTO\"]])"
   ]
  },
  {
   "cell_type": "markdown",
   "id": "54f46f2a",
   "metadata": {},
   "source": [
    "<h3>Guardar dataset limpio como archivo .csv</h3>"
   ]
  },
  {
   "cell_type": "code",
   "execution_count": 18,
   "id": "f5663961",
   "metadata": {},
   "outputs": [],
   "source": [
    "from inf_bancaria.config import clean_data_path"
   ]
  },
  {
   "cell_type": "code",
   "execution_count": 19,
   "id": "59725d63",
   "metadata": {},
   "outputs": [],
   "source": [
    "df_clean.to_csv(clean_data_path, index=False)"
   ]
  },
  {
   "cell_type": "markdown",
   "id": "93bdd3e9",
   "metadata": {},
   "source": [
    "<h2>Visualización de los datos</h2>"
   ]
  },
  {
   "cell_type": "markdown",
   "id": "b100e707",
   "metadata": {},
   "source": [
    "<h3>Estadísticas de los datos</h3>"
   ]
  },
  {
   "cell_type": "code",
   "execution_count": 20,
   "id": "02394be5",
   "metadata": {},
   "outputs": [
    {
     "data": {
      "application/vnd.microsoft.datawrangler.viewer.v0+json": {
       "columns": [
        {
         "name": "index",
         "rawType": "int64",
         "type": "integer"
        },
        {
         "name": "TIPO_CTE",
         "rawType": "object",
         "type": "string"
        },
        {
         "name": "freq_tipo_cte",
         "rawType": "int64",
         "type": "integer"
        },
        {
         "name": "mean_score_cte",
         "rawType": "float64",
         "type": "float"
        },
        {
         "name": "mean_score_comportamiento",
         "rawType": "float64",
         "type": "float"
        },
        {
         "name": "mean_edad",
         "rawType": "float64",
         "type": "float"
        },
        {
         "name": "mean_ingreso",
         "rawType": "float64",
         "type": "float"
        }
       ],
       "ref": "566aa201-b2cf-4d7d-9c7b-6bff49b49171",
       "rows": [
        [
         "0",
         "BUENO",
         "786",
         "225.11832061068702",
         "736.2900763358779",
         "42.4236641221374",
         "43361.09287531806"
        ],
        [
         "1",
         "MALO",
         "2856",
         "97.66176470588235",
         "0.0",
         "42.67822128851541",
         "42478.7293417367"
        ],
        [
         "2",
         "REGULAR",
         "474",
         "222.77848101265823",
         "731.1075949367089",
         "42.59071729957806",
         "43492.17299578059"
        ]
       ],
       "shape": {
        "columns": 6,
        "rows": 3
       }
      },
      "text/html": [
       "<div>\n",
       "<style scoped>\n",
       "    .dataframe tbody tr th:only-of-type {\n",
       "        vertical-align: middle;\n",
       "    }\n",
       "\n",
       "    .dataframe tbody tr th {\n",
       "        vertical-align: top;\n",
       "    }\n",
       "\n",
       "    .dataframe thead th {\n",
       "        text-align: right;\n",
       "    }\n",
       "</style>\n",
       "<table border=\"1\" class=\"dataframe\">\n",
       "  <thead>\n",
       "    <tr style=\"text-align: right;\">\n",
       "      <th></th>\n",
       "      <th>TIPO_CTE</th>\n",
       "      <th>freq_tipo_cte</th>\n",
       "      <th>mean_score_cte</th>\n",
       "      <th>mean_score_comportamiento</th>\n",
       "      <th>mean_edad</th>\n",
       "      <th>mean_ingreso</th>\n",
       "    </tr>\n",
       "  </thead>\n",
       "  <tbody>\n",
       "    <tr>\n",
       "      <th>0</th>\n",
       "      <td>BUENO</td>\n",
       "      <td>786</td>\n",
       "      <td>225.118321</td>\n",
       "      <td>736.290076</td>\n",
       "      <td>42.423664</td>\n",
       "      <td>43361.092875</td>\n",
       "    </tr>\n",
       "    <tr>\n",
       "      <th>1</th>\n",
       "      <td>MALO</td>\n",
       "      <td>2856</td>\n",
       "      <td>97.661765</td>\n",
       "      <td>0.000000</td>\n",
       "      <td>42.678221</td>\n",
       "      <td>42478.729342</td>\n",
       "    </tr>\n",
       "    <tr>\n",
       "      <th>2</th>\n",
       "      <td>REGULAR</td>\n",
       "      <td>474</td>\n",
       "      <td>222.778481</td>\n",
       "      <td>731.107595</td>\n",
       "      <td>42.590717</td>\n",
       "      <td>43492.172996</td>\n",
       "    </tr>\n",
       "  </tbody>\n",
       "</table>\n",
       "</div>"
      ],
      "text/plain": [
       "  TIPO_CTE  freq_tipo_cte  mean_score_cte  mean_score_comportamiento  \\\n",
       "0    BUENO            786      225.118321                 736.290076   \n",
       "1     MALO           2856       97.661765                   0.000000   \n",
       "2  REGULAR            474      222.778481                 731.107595   \n",
       "\n",
       "   mean_edad  mean_ingreso  \n",
       "0  42.423664  43361.092875  \n",
       "1  42.678221  42478.729342  \n",
       "2  42.590717  43492.172996  "
      ]
     },
     "execution_count": 20,
     "metadata": {},
     "output_type": "execute_result"
    }
   ],
   "source": [
    "df_group = df_clean.groupby(by=\"TIPO_CTE\", as_index=False).agg(\n",
    "    freq_tipo_cte=(\"TIPO_CTE\", 'count'),\n",
    "    mean_score_cte=(\"SCORE_CLIENTE\", 'mean'),\n",
    "    mean_score_comportamiento=(\"SCORE_COMPORTAMIENTO\", 'mean'),\n",
    "    mean_edad=(\"EDAD\", 'mean'),\n",
    "    mean_ingreso=(\"INGRESO_INFERIDO\", 'mean'),\n",
    ")\n",
    "df_group"
   ]
  },
  {
   "cell_type": "code",
   "execution_count": 21,
   "id": "67c936ce",
   "metadata": {},
   "outputs": [],
   "source": [
    "from inf_bancaria.graphs import distribution"
   ]
  },
  {
   "cell_type": "code",
   "execution_count": 22,
   "id": "a0d4f96f",
   "metadata": {},
   "outputs": [
    {
     "data": {
      "image/png": "[encoded data removed]",
      "text/plain": [
       "<Figure size 1200x600 with 1 Axes>"
      ]
     },
     "metadata": {},
     "output_type": "display_data"
    }
   ],
   "source": [
    "distribution(df_group[\"TIPO_CTE\"], df_group[\"freq_tipo_cte\"], \"Frecuencias de tipos de clientes\")"
   ]
  },
  {
   "cell_type": "code",
   "execution_count": 23,
   "id": "c4f4cf85",
   "metadata": {},
   "outputs": [
    {
     "data": {
      "image/png": "[encoded data removed]",
      "text/plain": [
       "<Figure size 1200x600 with 1 Axes>"
      ]
     },
     "metadata": {},
     "output_type": "display_data"
    }
   ],
   "source": [
    "distribution(df_group[\"TIPO_CTE\"], df_group[\"mean_score_cte\"], \"Media de scores por tipo de cliente\")"
   ]
  },
  {
   "cell_type": "code",
   "execution_count": 24,
   "id": "e10f2dbb",
   "metadata": {},
   "outputs": [
    {
     "data": {
      "image/png": "[encoded data removed]",
      "text/plain": [
       "<Figure size 1200x600 with 1 Axes>"
      ]
     },
     "metadata": {},
     "output_type": "display_data"
    }
   ],
   "source": [
    "distribution(df_group[\"TIPO_CTE\"], df_group[\"mean_score_comportamiento\"], \"Media de los scores de comportamiento por tipo de cliente\")"
   ]
  },
  {
   "cell_type": "code",
   "execution_count": 25,
   "id": "44536b97",
   "metadata": {},
   "outputs": [
    {
     "data": {
      "image/png": "[encoded data removed]",
      "text/plain": [
       "<Figure size 1200x600 with 1 Axes>"
      ]
     },
     "metadata": {},
     "output_type": "display_data"
    }
   ],
   "source": [
    "distribution(df_group[\"TIPO_CTE\"], df_group[\"mean_edad\"], \"Media de edades por tipo de cliente\")"
   ]
  },
  {
   "cell_type": "code",
   "execution_count": 26,
   "id": "3bf9a247",
   "metadata": {},
   "outputs": [
    {
     "data": {
      "image/png": "[encoded data removed]",
      "text/plain": [
       "<Figure size 1200x600 with 1 Axes>"
      ]
     },
     "metadata": {},
     "output_type": "display_data"
    }
   ],
   "source": [
    "distribution(df_group[\"TIPO_CTE\"], df_group[\"mean_ingreso\"], \"Media de ingresos inferidos por tipo de cliente\")"
   ]
  },
  {
   "cell_type": "markdown",
   "id": "31ac6edb",
   "metadata": {},
   "source": [
    "<h3>Correlaciones de las variables numéricas</h3>"
   ]
  },
  {
   "cell_type": "code",
   "execution_count": 27,
   "id": "bba8f957",
   "metadata": {},
   "outputs": [
    {
     "data": {
      "application/vnd.microsoft.datawrangler.viewer.v0+json": {
       "columns": [
        {
         "name": "index",
         "rawType": "object",
         "type": "string"
        },
        {
         "name": "INGRESO_INFERIDO",
         "rawType": "float64",
         "type": "float"
        },
        {
         "name": "SCORE_CLIENTE",
         "rawType": "float64",
         "type": "float"
        },
        {
         "name": "SCORE_COMPORTAMIENTO",
         "rawType": "float64",
         "type": "float"
        },
        {
         "name": "EDAD",
         "rawType": "float64",
         "type": "float"
        }
       ],
       "ref": "951d5449-b956-404c-baef-621b5954d01b",
       "rows": [
        [
         "INGRESO_INFERIDO",
         "1.0",
         "0.016701414898808786",
         "0.017849113293936385",
         "0.9369555478772318"
        ],
        [
         "SCORE_CLIENTE",
         "0.016701414898808786",
         "1.0",
         "0.9665141235706846",
         "-0.010291977354706829"
        ],
        [
         "SCORE_COMPORTAMIENTO",
         "0.017849113293936385",
         "0.9665141235706846",
         "1.0",
         "-0.008234113509968086"
        ],
        [
         "EDAD",
         "0.9369555478772318",
         "-0.010291977354706829",
         "-0.008234113509968086",
         "1.0"
        ]
       ],
       "shape": {
        "columns": 4,
        "rows": 4
       }
      },
      "text/html": [
       "<div>\n",
       "<style scoped>\n",
       "    .dataframe tbody tr th:only-of-type {\n",
       "        vertical-align: middle;\n",
       "    }\n",
       "\n",
       "    .dataframe tbody tr th {\n",
       "        vertical-align: top;\n",
       "    }\n",
       "\n",
       "    .dataframe thead th {\n",
       "        text-align: right;\n",
       "    }\n",
       "</style>\n",
       "<table border=\"1\" class=\"dataframe\">\n",
       "  <thead>\n",
       "    <tr style=\"text-align: right;\">\n",
       "      <th></th>\n",
       "      <th>INGRESO_INFERIDO</th>\n",
       "      <th>SCORE_CLIENTE</th>\n",
       "      <th>SCORE_COMPORTAMIENTO</th>\n",
       "      <th>EDAD</th>\n",
       "    </tr>\n",
       "  </thead>\n",
       "  <tbody>\n",
       "    <tr>\n",
       "      <th>INGRESO_INFERIDO</th>\n",
       "      <td>1.000000</td>\n",
       "      <td>0.016701</td>\n",
       "      <td>0.017849</td>\n",
       "      <td>0.936956</td>\n",
       "    </tr>\n",
       "    <tr>\n",
       "      <th>SCORE_CLIENTE</th>\n",
       "      <td>0.016701</td>\n",
       "      <td>1.000000</td>\n",
       "      <td>0.966514</td>\n",
       "      <td>-0.010292</td>\n",
       "    </tr>\n",
       "    <tr>\n",
       "      <th>SCORE_COMPORTAMIENTO</th>\n",
       "      <td>0.017849</td>\n",
       "      <td>0.966514</td>\n",
       "      <td>1.000000</td>\n",
       "      <td>-0.008234</td>\n",
       "    </tr>\n",
       "    <tr>\n",
       "      <th>EDAD</th>\n",
       "      <td>0.936956</td>\n",
       "      <td>-0.010292</td>\n",
       "      <td>-0.008234</td>\n",
       "      <td>1.000000</td>\n",
       "    </tr>\n",
       "  </tbody>\n",
       "</table>\n",
       "</div>"
      ],
      "text/plain": [
       "                      INGRESO_INFERIDO  SCORE_CLIENTE  SCORE_COMPORTAMIENTO  \\\n",
       "INGRESO_INFERIDO              1.000000       0.016701              0.017849   \n",
       "SCORE_CLIENTE                 0.016701       1.000000              0.966514   \n",
       "SCORE_COMPORTAMIENTO          0.017849       0.966514              1.000000   \n",
       "EDAD                          0.936956      -0.010292             -0.008234   \n",
       "\n",
       "                          EDAD  \n",
       "INGRESO_INFERIDO      0.936956  \n",
       "SCORE_CLIENTE        -0.010292  \n",
       "SCORE_COMPORTAMIENTO -0.008234  \n",
       "EDAD                  1.000000  "
      ]
     },
     "execution_count": 27,
     "metadata": {},
     "output_type": "execute_result"
    }
   ],
   "source": [
    "correlations = df_clean[[\"INGRESO_INFERIDO\",\"SCORE_CLIENTE\",\"SCORE_COMPORTAMIENTO\",\"EDAD\"]].corr()\n",
    "correlations"
   ]
  },
  {
   "cell_type": "code",
   "execution_count": 28,
   "id": "38113178",
   "metadata": {},
   "outputs": [],
   "source": [
    "from inf_bancaria.graphs import heatmap"
   ]
  },
  {
   "cell_type": "code",
   "execution_count": 29,
   "id": "21e5af3c",
   "metadata": {},
   "outputs": [
    {
     "data": {
      "image/png": "[encoded data removed]",
      "text/plain": [
       "<Figure size 1200x600 with 2 Axes>"
      ]
     },
     "metadata": {},
     "output_type": "display_data"
    }
   ],
   "source": [
    "heatmap(correlations, \"Mapa de calor del dataset\")"
   ]
  },
  {
   "cell_type": "markdown",
   "id": "1dcf5d5f",
   "metadata": {},
   "source": [
    "<h3>Edad vs Ingreso inferido</h3>"
   ]
  },
  {
   "cell_type": "code",
   "execution_count": 30,
   "id": "1bb14f83",
   "metadata": {},
   "outputs": [],
   "source": [
    "from inf_bancaria.graphs import scatter"
   ]
  },
  {
   "cell_type": "code",
   "execution_count": 31,
   "id": "1dd21deb",
   "metadata": {},
   "outputs": [
    {
     "data": {
      "image/png": "[encoded data removed]",
      "text/plain": [
       "<Figure size 1200x600 with 1 Axes>"
      ]
     },
     "metadata": {},
     "output_type": "display_data"
    }
   ],
   "source": [
    "scatter(df_clean[\"EDAD\"], df_clean[\"INGRESO_INFERIDO\"], \"Edad vs Ingreso inferido\")"
   ]
  },
  {
   "cell_type": "markdown",
   "id": "5d8bbfde",
   "metadata": {},
   "source": [
    "<h3>Score del cliente vs Score de comportamiento</h3>"
   ]
  },
  {
   "cell_type": "code",
   "execution_count": 32,
   "id": "95951855",
   "metadata": {},
   "outputs": [
    {
     "data": {
      "image/png": "[encoded data removed]",
      "text/plain": [
       "<Figure size 1200x600 with 1 Axes>"
      ]
     },
     "metadata": {},
     "output_type": "display_data"
    }
   ],
   "source": [
    "scatter(df_clean[\"SCORE_CLIENTE\"], df_clean[\"SCORE_COMPORTAMIENTO\"], \"Score del cliente vs Score de comportamiento\")"
   ]
  }
 ],
 "metadata": {
  "kernelspec": {
   "display_name": "venv",
   "language": "python",
   "name": "python3"
  },
  "language_info": {
   "codemirror_mode": {
    "name": "ipython",
    "version": 3
   },
   "file_extension": ".py",
   "mimetype": "text/x-python",
   "name": "python",
   "nbconvert_exporter": "python",
   "pygments_lexer": "ipython3",
   "version": "3.12.2"
  }
 },
 "nbformat": 4,
 "nbformat_minor": 5
}
