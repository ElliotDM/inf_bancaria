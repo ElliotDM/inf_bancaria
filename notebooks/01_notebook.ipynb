{
 "cells": [
  {
   "cell_type": "markdown",
   "id": "cd3ff779",
   "metadata": {},
   "source": [
    "# Informacion bancaria"
   ]
  },
  {
   "cell_type": "code",
   "execution_count": 1,
   "id": "3ab6c5e0",
   "metadata": {},
   "outputs": [],
   "source": [
    "import numpy as np\n",
    "import matplotlib.pyplot as plt\n",
    "import pandas as pd"
   ]
  },
  {
   "cell_type": "code",
   "execution_count": 2,
   "id": "b1e83eb4",
   "metadata": {},
   "outputs": [],
   "source": [
    "from inf_bancaria.config import data_path\n",
    "from inf_bancaria.clean_data import remove_columns"
   ]
  },
  {
   "cell_type": "code",
   "execution_count": 3,
   "id": "5154b4cf",
   "metadata": {},
   "outputs": [],
   "source": [
    "df = pd.read_csv(data_path)"
   ]
  },
  {
   "cell_type": "code",
   "execution_count": 6,
   "id": "112db6bb",
   "metadata": {},
   "outputs": [],
   "source": [
    "columns = ['NUM_SOLICITUD', 'SUCURSAL', 'STATUS_SOLICITUD', 'PUNTO_DECISION',\n",
    "       'APROBACION_TC', 'LINEA_CREDITO_FINAL', 'CUENTA_ASIGNADA',\n",
    "       'SALDO_CUENTA', 'CAPACIDAD_TC', 'COMPROBANTE_INGRESOS', \n",
    "       'SEGMENTO_CLIENTE', 'CLIENTE_CDE', 'SUMA_LINEAS_REVOLVENTES', \n",
    "       'CAPACIDAD_PAGO_TOTAL','PEOR_MOP_TARJETAS', 'SUMA_SALDOS_TARJETAS', \n",
    "       'SUMA_PAGO_MIN_TARJETAS', 'PEOR_HISTORIA_CREDITO', 'SUMA_SALDOS_TOTAL', \n",
    "       'NUM_CREDITOS',]"
   ]
  },
  {
   "cell_type": "code",
   "execution_count": 7,
   "id": "55f6d16d",
   "metadata": {},
   "outputs": [],
   "source": [
    "df_clean = remove_columns(df, columns)"
   ]
  },
  {
   "cell_type": "code",
   "execution_count": 9,
   "id": "e160f986",
   "metadata": {},
   "outputs": [
    {
     "data": {
      "application/vnd.microsoft.datawrangler.viewer.v0+json": {
       "columns": [
        {
         "name": "index",
         "rawType": "int64",
         "type": "integer"
        },
        {
         "name": "TIPO_CTE",
         "rawType": "object",
         "type": "string"
        },
        {
         "name": "MESES_VENCIDOS",
         "rawType": "float64",
         "type": "float"
        },
        {
         "name": "INGRESO_INFERIDO",
         "rawType": "int64",
         "type": "integer"
        },
        {
         "name": "NIVEL_RIESGO",
         "rawType": "object",
         "type": "string"
        },
        {
         "name": "SOLICITUDES_RECHAZADAS",
         "rawType": "int64",
         "type": "integer"
        },
        {
         "name": "SCORE_CLIENTE",
         "rawType": "int64",
         "type": "integer"
        },
        {
         "name": "SCORE_COMPORTAMIENTO",
         "rawType": "int64",
         "type": "integer"
        },
        {
         "name": "EDAD",
         "rawType": "int64",
         "type": "integer"
        },
        {
         "name": "TIPO_VIVIENDA",
         "rawType": "object",
         "type": "string"
        },
        {
         "name": "ESCOLARIDAD",
         "rawType": "object",
         "type": "string"
        }
       ],
       "ref": "7fe18252-edd7-4ce2-b07c-239a47c96222",
       "rows": [
        [
         "0",
         "MALO",
         null,
         "4500",
         "Alto",
         "5",
         "89",
         "0",
         "25",
         "Renta",
         "Preparatoria"
        ],
        [
         "1",
         "MALO",
         null,
         "4780",
         "Alto",
         "4",
         "89",
         "0",
         "25",
         "Familiares",
         "Licenciatura"
        ],
        [
         "2",
         "MALO",
         null,
         "4520",
         "Alto",
         "5",
         "89",
         "0",
         "25",
         "Familiares",
         "Preparatoria"
        ],
        [
         "3",
         "MALO",
         null,
         "5000",
         "Alto",
         "4",
         "89",
         "0",
         "25",
         "Renta",
         "Posgrado"
        ],
        [
         "4",
         "MALO",
         null,
         "4950",
         "Alto",
         "4",
         "89",
         "0",
         "25",
         "Renta",
         "Licenciatura"
        ]
       ],
       "shape": {
        "columns": 10,
        "rows": 5
       }
      },
      "text/html": [
       "<div>\n",
       "<style scoped>\n",
       "    .dataframe tbody tr th:only-of-type {\n",
       "        vertical-align: middle;\n",
       "    }\n",
       "\n",
       "    .dataframe tbody tr th {\n",
       "        vertical-align: top;\n",
       "    }\n",
       "\n",
       "    .dataframe thead th {\n",
       "        text-align: right;\n",
       "    }\n",
       "</style>\n",
       "<table border=\"1\" class=\"dataframe\">\n",
       "  <thead>\n",
       "    <tr style=\"text-align: right;\">\n",
       "      <th></th>\n",
       "      <th>TIPO_CTE</th>\n",
       "      <th>MESES_VENCIDOS</th>\n",
       "      <th>INGRESO_INFERIDO</th>\n",
       "      <th>NIVEL_RIESGO</th>\n",
       "      <th>SOLICITUDES_RECHAZADAS</th>\n",
       "      <th>SCORE_CLIENTE</th>\n",
       "      <th>SCORE_COMPORTAMIENTO</th>\n",
       "      <th>EDAD</th>\n",
       "      <th>TIPO_VIVIENDA</th>\n",
       "      <th>ESCOLARIDAD</th>\n",
       "    </tr>\n",
       "  </thead>\n",
       "  <tbody>\n",
       "    <tr>\n",
       "      <th>0</th>\n",
       "      <td>MALO</td>\n",
       "      <td>NaN</td>\n",
       "      <td>4500</td>\n",
       "      <td>Alto</td>\n",
       "      <td>5</td>\n",
       "      <td>89</td>\n",
       "      <td>0</td>\n",
       "      <td>25</td>\n",
       "      <td>Renta</td>\n",
       "      <td>Preparatoria</td>\n",
       "    </tr>\n",
       "    <tr>\n",
       "      <th>1</th>\n",
       "      <td>MALO</td>\n",
       "      <td>NaN</td>\n",
       "      <td>4780</td>\n",
       "      <td>Alto</td>\n",
       "      <td>4</td>\n",
       "      <td>89</td>\n",
       "      <td>0</td>\n",
       "      <td>25</td>\n",
       "      <td>Familiares</td>\n",
       "      <td>Licenciatura</td>\n",
       "    </tr>\n",
       "    <tr>\n",
       "      <th>2</th>\n",
       "      <td>MALO</td>\n",
       "      <td>NaN</td>\n",
       "      <td>4520</td>\n",
       "      <td>Alto</td>\n",
       "      <td>5</td>\n",
       "      <td>89</td>\n",
       "      <td>0</td>\n",
       "      <td>25</td>\n",
       "      <td>Familiares</td>\n",
       "      <td>Preparatoria</td>\n",
       "    </tr>\n",
       "    <tr>\n",
       "      <th>3</th>\n",
       "      <td>MALO</td>\n",
       "      <td>NaN</td>\n",
       "      <td>5000</td>\n",
       "      <td>Alto</td>\n",
       "      <td>4</td>\n",
       "      <td>89</td>\n",
       "      <td>0</td>\n",
       "      <td>25</td>\n",
       "      <td>Renta</td>\n",
       "      <td>Posgrado</td>\n",
       "    </tr>\n",
       "    <tr>\n",
       "      <th>4</th>\n",
       "      <td>MALO</td>\n",
       "      <td>NaN</td>\n",
       "      <td>4950</td>\n",
       "      <td>Alto</td>\n",
       "      <td>4</td>\n",
       "      <td>89</td>\n",
       "      <td>0</td>\n",
       "      <td>25</td>\n",
       "      <td>Renta</td>\n",
       "      <td>Licenciatura</td>\n",
       "    </tr>\n",
       "  </tbody>\n",
       "</table>\n",
       "</div>"
      ],
      "text/plain": [
       "  TIPO_CTE  MESES_VENCIDOS  INGRESO_INFERIDO NIVEL_RIESGO  \\\n",
       "0     MALO             NaN              4500         Alto   \n",
       "1     MALO             NaN              4780         Alto   \n",
       "2     MALO             NaN              4520         Alto   \n",
       "3     MALO             NaN              5000         Alto   \n",
       "4     MALO             NaN              4950         Alto   \n",
       "\n",
       "   SOLICITUDES_RECHAZADAS  SCORE_CLIENTE  SCORE_COMPORTAMIENTO  EDAD  \\\n",
       "0                       5             89                     0    25   \n",
       "1                       4             89                     0    25   \n",
       "2                       5             89                     0    25   \n",
       "3                       4             89                     0    25   \n",
       "4                       4             89                     0    25   \n",
       "\n",
       "  TIPO_VIVIENDA   ESCOLARIDAD  \n",
       "0         Renta  Preparatoria  \n",
       "1    Familiares  Licenciatura  \n",
       "2    Familiares  Preparatoria  \n",
       "3         Renta      Posgrado  \n",
       "4         Renta  Licenciatura  "
      ]
     },
     "execution_count": 9,
     "metadata": {},
     "output_type": "execute_result"
    }
   ],
   "source": [
    "df_clean.head()"
   ]
  }
 ],
 "metadata": {
  "kernelspec": {
   "display_name": "venv",
   "language": "python",
   "name": "python3"
  },
  "language_info": {
   "codemirror_mode": {
    "name": "ipython",
    "version": 3
   },
   "file_extension": ".py",
   "mimetype": "text/x-python",
   "name": "python",
   "nbconvert_exporter": "python",
   "pygments_lexer": "ipython3",
   "version": "3.12.2"
  }
 },
 "nbformat": 4,
 "nbformat_minor": 5
}
